{
  "nbformat": 4,
  "nbformat_minor": 0,
  "metadata": {
    "colab": {
      "provenance": [],
      "include_colab_link": true
    },
    "kernelspec": {
      "name": "python3",
      "display_name": "Python 3"
    }
  },
  "cells": [
    {
      "cell_type": "markdown",
      "metadata": {
        "id": "view-in-github",
        "colab_type": "text"
      },
      "source": [
        "<a href=\"https://colab.research.google.com/github/tyri0n11/distributed-system/blob/main/Python_Generators.ipynb\" target=\"_parent\"><img src=\"https://colab.research.google.com/assets/colab-badge.svg\" alt=\"Open In Colab\"/></a>"
      ]
    },
    {
      "cell_type": "markdown",
      "metadata": {
        "id": "cijowTxtOWx0"
      },
      "source": [
        "## Python Generators\n",
        "In this article, you'll learn how to create iterations easily using Python generators, how it is different from iterators and normal functions, and why you should use it."
      ]
    },
    {
      "cell_type": "markdown",
      "metadata": {
        "id": "xox9jgZJOb2p"
      },
      "source": [
        "### What are generators in Python?\n",
        "There is a lot of work in building an iterator in Python. We have to implement a class with `__iter__()` and `__next__()` method, keep track of internal states, and raise `StopIteration` when there are no values to be returned.\n",
        "\n",
        "This is both lengthy and counterintuitive. **Generator** comes to the rescue in such situations.\n",
        "\n",
        "Python generators are a simple way of creating iterators. All the work we mentioned above are automatically handled by generators in Python.\n",
        "\n",
        "Simply speaking, a generator is a function that returns an object (iterator) which we can iterate over (one value at a time)."
      ]
    },
    {
      "cell_type": "markdown",
      "metadata": {
        "id": "sRu8wlgmO-pZ"
      },
      "source": [
        "### How to create a generator in Python?\n",
        "It is fairly simple to create a generator in Python. It is as easy as defining a normal function, but with a `yield` statement instead of a `return` statement.\n",
        "\n",
        "If a function contains at least one `yield` statement (it may contain other `yield` or `return` statements), it becomes a generator function. Both `yield` and `return` will return some value from a function.\n",
        "\n",
        "The difference is that while a `return` statement terminates a function entirely, `yield` statement pauses the function saving all its states and later continues from there on successive calls."
      ]
    },
    {
      "cell_type": "markdown",
      "metadata": {
        "id": "L1gaJDakPYJJ"
      },
      "source": [
        "### Differences between Generator function and a Normal function\n",
        "Here is how a generator function differs from a normal function.\n",
        "\n",
        "- Generator function contains one or more yield statements.\n",
        "- When called, it returns an object (iterator) but does not start execution immediately.\n",
        "- Methods like `__iter__()` and `__next__()` are implemented automatically. So we can iterate through the items using `next()`.\n",
        "- Once the function yields, the function is paused and the control is transferred to the caller.\n",
        "- Local variables and their states are remembered between successive calls.\n",
        "- Finally, when the function terminates, `StopIteration` is raised automatically on further calls.\n",
        "\n",
        "Here is an example to illustrate all of the points stated above. We have a generator function named `my_gen()` with several yield statements."
      ]
    },
    {
      "cell_type": "code",
      "metadata": {
        "id": "yO8VStWqZ-Je"
      },
      "source": [
        "# A simple generator function\n",
        "def my_gen():\n",
        "    n = 1\n",
        "    print('This is printed first')\n",
        "    # Generator function contains yield statements\n",
        "    yield n\n",
        "\n",
        "    n += 1\n",
        "    print('This is printed second')\n",
        "    yield n\n",
        "\n",
        "    n += 1\n",
        "    print('This is printed at last')\n",
        "    yield n"
      ],
      "execution_count": null,
      "outputs": []
    },
    {
      "cell_type": "markdown",
      "metadata": {
        "id": "M0ei7undQLt7"
      },
      "source": [
        "An interactive run in the interpreter is given below. Run these in the Python shell to see the output.\n",
        "\n"
      ]
    },
    {
      "cell_type": "code",
      "metadata": {
        "id": "aToKA4FHQG15",
        "colab": {
          "base_uri": "https://localhost:8080/"
        },
        "outputId": "0df647aa-1da0-44ef-85fb-833e6145e17e"
      },
      "source": [
        "a = my_gen()\n",
        "\n",
        "next(a)"
      ],
      "execution_count": null,
      "outputs": [
        {
          "output_type": "stream",
          "name": "stdout",
          "text": [
            "This is printed first\n"
          ]
        },
        {
          "output_type": "execute_result",
          "data": {
            "text/plain": [
              "1"
            ]
          },
          "metadata": {},
          "execution_count": 2
        }
      ]
    },
    {
      "cell_type": "code",
      "metadata": {
        "id": "WAS7iC8VQSP5",
        "colab": {
          "base_uri": "https://localhost:8080/"
        },
        "outputId": "6a85ff1d-8640-4b00-a5db-cc0783179498"
      },
      "source": [
        "next(a)"
      ],
      "execution_count": null,
      "outputs": [
        {
          "output_type": "stream",
          "name": "stdout",
          "text": [
            "This is printed second\n"
          ]
        },
        {
          "output_type": "execute_result",
          "data": {
            "text/plain": [
              "2"
            ]
          },
          "metadata": {},
          "execution_count": 3
        }
      ]
    },
    {
      "cell_type": "code",
      "metadata": {
        "id": "GAXeLr-MQYVw",
        "colab": {
          "base_uri": "https://localhost:8080/"
        },
        "outputId": "711f1f8a-0625-40f8-ea5a-63451b21eddd"
      },
      "source": [
        "next(a)"
      ],
      "execution_count": null,
      "outputs": [
        {
          "output_type": "stream",
          "name": "stdout",
          "text": [
            "This is printed at last\n"
          ]
        },
        {
          "output_type": "execute_result",
          "data": {
            "text/plain": [
              "3"
            ]
          },
          "metadata": {},
          "execution_count": 4
        }
      ]
    },
    {
      "cell_type": "code",
      "metadata": {
        "id": "xp5F0bdvQaEw",
        "colab": {
          "base_uri": "https://localhost:8080/",
          "height": 141
        },
        "outputId": "78a4357d-7d79-417c-aad0-ca9119caca41"
      },
      "source": [
        "next(a)"
      ],
      "execution_count": null,
      "outputs": [
        {
          "output_type": "error",
          "ename": "StopIteration",
          "evalue": "",
          "traceback": [
            "\u001b[0;31m---------------------------------------------------------------------------\u001b[0m",
            "\u001b[0;31mStopIteration\u001b[0m                             Traceback (most recent call last)",
            "\u001b[0;32m<ipython-input-5-15841f3f11d4>\u001b[0m in \u001b[0;36m<cell line: 1>\u001b[0;34m()\u001b[0m\n\u001b[0;32m----> 1\u001b[0;31m \u001b[0mnext\u001b[0m\u001b[0;34m(\u001b[0m\u001b[0ma\u001b[0m\u001b[0;34m)\u001b[0m\u001b[0;34m\u001b[0m\u001b[0;34m\u001b[0m\u001b[0m\n\u001b[0m",
            "\u001b[0;31mStopIteration\u001b[0m: "
          ]
        }
      ]
    },
    {
      "cell_type": "markdown",
      "metadata": {
        "id": "t88r21HUQudJ"
      },
      "source": [
        "One interesting thing to note in the above example is that the value of variable `n` is remembered between each call.\n",
        "\n",
        "Unlike normal functions, the local variables are not destroyed when the function yields. Furthermore, the generator object can be iterated only once.\n",
        "\n",
        "To restart the process we need to create another generator object using something like `a = my_gen()`.\n",
        "\n",
        "One final thing to note is that we can use generators with `for` loops directly.\n",
        "\n",
        "This is because a `for` loop takes an iterator and iterates over it using `next()` function. It automatically ends when `StopIteration` is raised."
      ]
    },
    {
      "cell_type": "code",
      "metadata": {
        "id": "evzzU3yhQeDh",
        "colab": {
          "base_uri": "https://localhost:8080/"
        },
        "outputId": "781fbb6a-2630-4d59-c033-f301c3228fc5"
      },
      "source": [
        "# A simple generator function\n",
        "def my_gen():\n",
        "    n = 1\n",
        "    print('This is printed first')\n",
        "    # Generator function contains yield statements\n",
        "    yield n\n",
        "\n",
        "    n += 1\n",
        "    print('This is printed second')\n",
        "    yield n\n",
        "\n",
        "    n += 1\n",
        "    print('This is printed at last')\n",
        "    yield n\n",
        "\n",
        "\n",
        "# Using for loop\n",
        "for item in my_gen():\n",
        "    print(item)"
      ],
      "execution_count": null,
      "outputs": [
        {
          "output_type": "stream",
          "name": "stdout",
          "text": [
            "This is printed first\n",
            "1\n",
            "This is printed second\n",
            "2\n",
            "This is printed at last\n",
            "3\n"
          ]
        }
      ]
    },
    {
      "cell_type": "markdown",
      "metadata": {
        "id": "OUP0VUMWRS6g"
      },
      "source": [
        "### Python Generators with a Loop\n",
        "The above example is of less use and we studied it just to get an idea of what was happening in the background.\n",
        "\n",
        "Normally, generator functions are implemented with a loop having a suitable terminating condition.\n",
        "\n",
        "Let's take an example of a generator that reverses a string."
      ]
    },
    {
      "cell_type": "code",
      "metadata": {
        "id": "JiyhL3jBRPO-",
        "colab": {
          "base_uri": "https://localhost:8080/"
        },
        "outputId": "2823d2a6-9ddb-46cf-80a8-4ab4a7af4080"
      },
      "source": [
        "def rev_str(my_str):\n",
        "    length = len(my_str)\n",
        "    for i in range(length - 1, -1, -1):\n",
        "        yield my_str[i]\n",
        "\n",
        "\n",
        "# For loop to reverse the string\n",
        "for char in rev_str(\"hello\"):\n",
        "    print(char)"
      ],
      "execution_count": null,
      "outputs": [
        {
          "output_type": "stream",
          "name": "stdout",
          "text": [
            "o\n",
            "l\n",
            "l\n",
            "e\n",
            "h\n"
          ]
        }
      ]
    },
    {
      "cell_type": "code",
      "source": [
        "# prompt: example of generator in for loop\n",
        "\n",
        "def generator_in_for_loop():\n",
        "  for i in range(10):\n",
        "    yield i\n",
        "\n",
        "for item in generator_in_for_loop():\n",
        "  print(item)\n"
      ],
      "metadata": {
        "colab": {
          "base_uri": "https://localhost:8080/"
        },
        "id": "azZkSwx5czzV",
        "outputId": "3673e10b-df6b-4106-842e-bc46cb5761c8"
      },
      "execution_count": null,
      "outputs": [
        {
          "output_type": "stream",
          "name": "stdout",
          "text": [
            "0\n",
            "1\n",
            "2\n",
            "3\n",
            "4\n",
            "5\n",
            "6\n",
            "7\n",
            "8\n",
            "9\n"
          ]
        }
      ]
    },
    {
      "cell_type": "markdown",
      "metadata": {
        "id": "OmVxejCCSKiI"
      },
      "source": [
        "In this example, we have used the `range()` function to get the index in reverse order using the `for` loop.\n",
        "\n",
        "> Note: This generator function not only works with strings, but also with other kinds of iterables like list, tuple, etc."
      ]
    },
    {
      "cell_type": "markdown",
      "source": [
        "### Exercise: Create Generator in case of Fibonacci sequence."
      ],
      "metadata": {
        "id": "4QZnaozLEBlq"
      }
    },
    {
      "cell_type": "code",
      "source": [
        "def my_fibo_generator(limit):\n",
        "    current = 0\n",
        "    next = 1\n",
        "    while current < limit:\n",
        "        yield current\n",
        "        current, next = next, current + next\n",
        "\n",
        "for i in my_fibo_generator(10):\n",
        "    print(i, end=\" \")\n"
      ],
      "metadata": {
        "id": "ZyZcXErACKbQ",
        "outputId": "246c4924-55a0-4cc9-fec2-5762d7030ee7",
        "colab": {
          "base_uri": "https://localhost:8080/"
        }
      },
      "execution_count": 4,
      "outputs": [
        {
          "output_type": "stream",
          "name": "stdout",
          "text": [
            "0 1 1 2 3 5 8 "
          ]
        }
      ]
    },
    {
      "cell_type": "markdown",
      "metadata": {
        "id": "XdUQTvL8SaEX"
      },
      "source": [
        "### Python Generator Expression\n",
        "Simple generators can be easily created on the fly using generator expressions. It makes building generators easy.\n",
        "\n",
        "Similar to the `lambda` functions which create anonymous functions, generator expressions create anonymous generator functions.\n",
        "\n",
        "The syntax for generator expression is similar to that of a list comprehension in Python. But the square brackets are replaced with round parentheses.\n",
        "\n",
        "The major difference between a list comprehension and a generator expression is that a list comprehension produces the entire list while the generator expression produces one item at a time.\n",
        "\n",
        "**They have lazy execution ( producing items only when asked for ). For this reason, a generator expression is much more memory efficient than an equivalent list comprehension.**"
      ]
    },
    {
      "cell_type": "code",
      "metadata": {
        "id": "iaczAOyjR1XY",
        "colab": {
          "base_uri": "https://localhost:8080/"
        },
        "outputId": "a03cd06b-cf13-4489-c8b3-e2425a5e4bda"
      },
      "source": [
        "# Initialize the list\n",
        "my_list = [1, 3, 6, 10]\n",
        "\n",
        "# square each term using list comprehension\n",
        "list_ = [x**2 for x in my_list]\n",
        "\n",
        "# same thing can be done using a generator expression\n",
        "# generator expressions are surrounded by parenthesis ()\n",
        "generator = (x**2 for x in my_list)\n",
        "\n",
        "print(list_)\n",
        "print(generator)"
      ],
      "execution_count": null,
      "outputs": [
        {
          "output_type": "stream",
          "name": "stdout",
          "text": [
            "[1, 9, 36, 100]\n",
            "<generator object <genexpr> at 0x7b31dc2d6f10>\n"
          ]
        }
      ]
    },
    {
      "cell_type": "markdown",
      "metadata": {
        "id": "ejCZYlmqS7pM"
      },
      "source": [
        "We can see above that the generator expression did not produce the required result immediately. Instead, it returned a generator object, which **produces items only on demand.**\n",
        "\n",
        "Here is how we can start getting items from the generator:"
      ]
    },
    {
      "cell_type": "code",
      "metadata": {
        "id": "3q1PpLOxS1qx"
      },
      "source": [
        "# Initialize the list\n",
        "my_list = [1, 3, 6, 10]\n",
        "\n",
        "a = (x**2 for x in my_list)\n"
      ],
      "execution_count": null,
      "outputs": []
    },
    {
      "cell_type": "code",
      "source": [
        "print(a)"
      ],
      "metadata": {
        "colab": {
          "base_uri": "https://localhost:8080/"
        },
        "id": "Av-Mg2dOrKQM",
        "outputId": "af06fbcf-db4c-451c-e8a9-c2733a8ddb24"
      },
      "execution_count": null,
      "outputs": [
        {
          "output_type": "stream",
          "name": "stdout",
          "text": [
            "<generator object <genexpr> at 0x7e1bf831d150>\n"
          ]
        }
      ]
    },
    {
      "cell_type": "code",
      "metadata": {
        "colab": {
          "base_uri": "https://localhost:8080/"
        },
        "id": "T10ubWPwGAVT",
        "outputId": "112585dd-0150-41dc-bfd9-e9cfdbf4c1ca"
      },
      "source": [
        "print(next(a))\n",
        "\n",
        "print(next(a))\n",
        "\n",
        "print(next(a))\n",
        "\n",
        "print(next(a))"
      ],
      "execution_count": null,
      "outputs": [
        {
          "output_type": "stream",
          "name": "stdout",
          "text": [
            "1\n",
            "9\n",
            "36\n",
            "100\n"
          ]
        }
      ]
    },
    {
      "cell_type": "code",
      "metadata": {
        "id": "LkFrEzVCTD8z",
        "colab": {
          "base_uri": "https://localhost:8080/",
          "height": 141
        },
        "outputId": "e361dc91-c414-4ea3-90b1-4803900e7386"
      },
      "source": [
        "next(a)"
      ],
      "execution_count": null,
      "outputs": [
        {
          "output_type": "error",
          "ename": "StopIteration",
          "evalue": "",
          "traceback": [
            "\u001b[0;31m---------------------------------------------------------------------------\u001b[0m",
            "\u001b[0;31mStopIteration\u001b[0m                             Traceback (most recent call last)",
            "\u001b[0;32m<ipython-input-12-15841f3f11d4>\u001b[0m in \u001b[0;36m<cell line: 1>\u001b[0;34m()\u001b[0m\n\u001b[0;32m----> 1\u001b[0;31m \u001b[0mnext\u001b[0m\u001b[0;34m(\u001b[0m\u001b[0ma\u001b[0m\u001b[0;34m)\u001b[0m\u001b[0;34m\u001b[0m\u001b[0;34m\u001b[0m\u001b[0m\n\u001b[0m",
            "\u001b[0;31mStopIteration\u001b[0m: "
          ]
        }
      ]
    },
    {
      "cell_type": "markdown",
      "metadata": {
        "id": "32nxmFpFTN1W"
      },
      "source": [
        "Generator expressions can be used as function arguments. When used in such a way, the round parentheses can be dropped."
      ]
    },
    {
      "cell_type": "code",
      "source": [
        "(x**2 for x in my_list)"
      ],
      "metadata": {
        "colab": {
          "base_uri": "https://localhost:8080/"
        },
        "id": "Lbg627wYeMf7",
        "outputId": "799971c8-d3b3-4ef1-ec3c-0cd9e0568bbc"
      },
      "execution_count": null,
      "outputs": [
        {
          "output_type": "execute_result",
          "data": {
            "text/plain": [
              "<generator object <genexpr> at 0x7e1bf831d000>"
            ]
          },
          "metadata": {},
          "execution_count": 13
        }
      ]
    },
    {
      "cell_type": "code",
      "metadata": {
        "id": "wPQS8zKTTIwa",
        "colab": {
          "base_uri": "https://localhost:8080/"
        },
        "outputId": "924d16b5-0069-4d8b-d012-946306924cd1"
      },
      "source": [
        "sum(x**2 for x in my_list)"
      ],
      "execution_count": null,
      "outputs": [
        {
          "output_type": "execute_result",
          "data": {
            "text/plain": [
              "146"
            ]
          },
          "metadata": {},
          "execution_count": 14
        }
      ]
    },
    {
      "cell_type": "code",
      "metadata": {
        "id": "KmAIydhYTYL7",
        "colab": {
          "base_uri": "https://localhost:8080/"
        },
        "outputId": "edd257a4-0eb6-4dc8-807d-2e4109d1f242"
      },
      "source": [
        "max(x**2 for x in my_list)"
      ],
      "execution_count": null,
      "outputs": [
        {
          "output_type": "execute_result",
          "data": {
            "text/plain": [
              "100"
            ]
          },
          "metadata": {},
          "execution_count": 15
        }
      ]
    },
    {
      "cell_type": "markdown",
      "source": [
        "### Exercise: Using Generator expression to compute the sum of squares of diffences of two lists of numbers."
      ],
      "metadata": {
        "id": "60WO9MMKHbnm"
      }
    },
    {
      "cell_type": "code",
      "source": [
        "def diff_of_two_lists(l1, l2):\n",
        "    for i in range(len(l1)):\n",
        "        yield l1[i] - l2[i]\n",
        "def square(l):\n",
        "    for i in l:\n",
        "        yield i**2\n",
        "def sum_of_diff_of_two_lists_of_numbers(l1, l2):\n",
        "    yield sum(square(diff_of_two_lists(l1, l2)))\n",
        "list_1 = [1, 2, 5, 6, 8]\n",
        "list_2 = [7, 8, 9, 10, 3]\n",
        "\n",
        "for r in sum_of_diff_of_two_lists_of_numbers(list_1, list_2):\n",
        "    print(r)\n"
      ],
      "metadata": {
        "colab": {
          "base_uri": "https://localhost:8080/"
        },
        "id": "jxAJXOqBGJDM",
        "outputId": "b868238f-b54f-4822-b00a-b79b253de45d"
      },
      "execution_count": 8,
      "outputs": [
        {
          "output_type": "stream",
          "name": "stdout",
          "text": [
            "129\n"
          ]
        }
      ]
    },
    {
      "cell_type": "markdown",
      "metadata": {
        "id": "af80mMp7TcdC"
      },
      "source": [
        "### Why generators are used in Python?\n",
        "There are several reasons that make generators a powerful implementation.\n",
        "\n",
        "#### 1. Easy to Implement\n",
        "Generators can be implemented in a clear and concise way as compared to their iterator class counterpart. Following is an example to implement a sequence of power of 2 using an iterator class."
      ]
    },
    {
      "cell_type": "code",
      "metadata": {
        "id": "VHp2NR3iTbn3"
      },
      "source": [
        "class PowTwo:\n",
        "    def __init__(self, max=0):\n",
        "        self.n = 0\n",
        "        self.max = max\n",
        "\n",
        "    def __iter__(self):\n",
        "        return self\n",
        "\n",
        "    def __next__(self):\n",
        "        if self.n > self.max:\n",
        "            raise StopIteration\n",
        "\n",
        "        result = 2 ** self.n\n",
        "        self.n += 1\n",
        "        return result"
      ],
      "execution_count": null,
      "outputs": []
    },
    {
      "cell_type": "markdown",
      "metadata": {
        "id": "gqf2bHoWTubl"
      },
      "source": [
        "The above program was lengthy and confusing. Now, let's do the same using a generator function."
      ]
    },
    {
      "cell_type": "code",
      "metadata": {
        "id": "IulJg20pTtdm"
      },
      "source": [
        "def PowTwoGen(max=0):\n",
        "    n = 0\n",
        "    while n < max:\n",
        "        yield 2 ** n\n",
        "        n += 1"
      ],
      "execution_count": null,
      "outputs": []
    },
    {
      "cell_type": "markdown",
      "metadata": {
        "id": "AprcFh8GT4bp"
      },
      "source": [
        "Since generators keep track of details automatically, the implementation was concise and much cleaner."
      ]
    },
    {
      "cell_type": "markdown",
      "metadata": {
        "id": "2dEpT_lTT5jL"
      },
      "source": [
        "#### 2. Memory Efficient\n",
        "A normal function to return a sequence will create the entire sequence in memory before returning the result. This is an overkill, if the number of items in the sequence is very large.\n",
        "\n",
        "Generator implementation of such sequences is memory friendly and is preferred since it only produces one item at a time."
      ]
    },
    {
      "cell_type": "markdown",
      "metadata": {
        "id": "sfAc0GVcULcf"
      },
      "source": [
        "#### 3. Represent Infinite Stream\n",
        "Generators are excellent mediums to represent an infinite stream of data. Infinite streams cannot be stored in memory, and since generators produce only one item at a time, they can represent an infinite stream of data.\n",
        "\n",
        "The following generator function can generate all the even numbers (at least in theory)."
      ]
    },
    {
      "cell_type": "code",
      "metadata": {
        "id": "yCLJ1t-_T0ZA"
      },
      "source": [
        "def all_even():\n",
        "    n = 0\n",
        "    while True:\n",
        "        yield n\n",
        "        n += 2"
      ],
      "execution_count": null,
      "outputs": []
    },
    {
      "cell_type": "code",
      "metadata": {
        "id": "Y2BXGgTLUbDM"
      },
      "source": [
        "even = all_even()"
      ],
      "execution_count": null,
      "outputs": []
    },
    {
      "cell_type": "code",
      "metadata": {
        "colab": {
          "base_uri": "https://localhost:8080/"
        },
        "id": "iuTU-CLcHduo",
        "outputId": "64b355c5-3d7b-4f64-9dc2-e1e09bfc0bce"
      },
      "source": [
        "print(even)"
      ],
      "execution_count": null,
      "outputs": [
        {
          "output_type": "stream",
          "name": "stdout",
          "text": [
            "<generator object all_even at 0x7e1bf831d230>\n"
          ]
        }
      ]
    },
    {
      "cell_type": "code",
      "metadata": {
        "id": "Y01D-JUiUhS-",
        "colab": {
          "base_uri": "https://localhost:8080/"
        },
        "outputId": "6214c7a4-6c8b-4a6b-cf0a-887b1c6caaee"
      },
      "source": [
        "next(even)"
      ],
      "execution_count": null,
      "outputs": [
        {
          "output_type": "execute_result",
          "data": {
            "text/plain": [
              "0"
            ]
          },
          "metadata": {},
          "execution_count": 21
        }
      ]
    },
    {
      "cell_type": "code",
      "metadata": {
        "id": "bo7GSth9Ui01",
        "colab": {
          "base_uri": "https://localhost:8080/"
        },
        "outputId": "6be84249-14bf-4214-a0d4-a6cbb90a4883"
      },
      "source": [
        "next(even)"
      ],
      "execution_count": null,
      "outputs": [
        {
          "output_type": "execute_result",
          "data": {
            "text/plain": [
              "2"
            ]
          },
          "metadata": {},
          "execution_count": 22
        }
      ]
    },
    {
      "cell_type": "code",
      "metadata": {
        "id": "xPJYuGgvUkRq",
        "colab": {
          "base_uri": "https://localhost:8080/"
        },
        "outputId": "2de40093-aebf-41ef-9496-0543f08c61e3"
      },
      "source": [
        "next(even)"
      ],
      "execution_count": null,
      "outputs": [
        {
          "output_type": "execute_result",
          "data": {
            "text/plain": [
              "4"
            ]
          },
          "metadata": {},
          "execution_count": 23
        }
      ]
    },
    {
      "cell_type": "code",
      "metadata": {
        "id": "ndCv5FqPUlwr",
        "colab": {
          "base_uri": "https://localhost:8080/"
        },
        "outputId": "f0eac5f1-ae92-4318-904e-22b352904e79"
      },
      "source": [
        "next(even)"
      ],
      "execution_count": null,
      "outputs": [
        {
          "output_type": "execute_result",
          "data": {
            "text/plain": [
              "6"
            ]
          },
          "metadata": {},
          "execution_count": 24
        }
      ]
    },
    {
      "cell_type": "code",
      "metadata": {
        "colab": {
          "base_uri": "https://localhost:8080/"
        },
        "id": "erfDe5RxHktD",
        "outputId": "9a5cf221-23ac-4d61-d2cb-4c32f8ea9325"
      },
      "source": [
        "next(even)"
      ],
      "execution_count": null,
      "outputs": [
        {
          "output_type": "execute_result",
          "data": {
            "text/plain": [
              "8"
            ]
          },
          "metadata": {},
          "execution_count": 25
        }
      ]
    },
    {
      "cell_type": "markdown",
      "metadata": {
        "id": "0YranzMqUu2l"
      },
      "source": [
        "#### 4. Pipelining Generators\n",
        "Multiple generators can be used to pipeline a series of operations. This is best illustrated using an example.\n",
        "\n",
        "Suppose we have a generator that produces the numbers in the Fibonacci series. And we have another generator for squaring numbers.\n",
        "\n",
        "If we want to find out the sum of squares of numbers in the Fibonacci series, we can do it in the following way by pipelining the output of generator functions together."
      ]
    },
    {
      "cell_type": "code",
      "metadata": {
        "id": "tPaw7_WsUrjY",
        "colab": {
          "base_uri": "https://localhost:8080/"
        },
        "outputId": "b4e0483b-a27c-4852-eff9-7eeac3b468ce"
      },
      "source": [
        "def fibonacci_numbers(nums):\n",
        "    x, y = 0, 1\n",
        "    for _ in range(nums):\n",
        "        x, y = y, x+y\n",
        "        yield x\n",
        "\n",
        "def square(nums):\n",
        "    for num in nums:\n",
        "        yield num**2\n",
        "\n",
        "for num in range(10):\n",
        "    print(sum(square(fibonacci_numbers(num))))"
      ],
      "execution_count": null,
      "outputs": [
        {
          "output_type": "stream",
          "name": "stdout",
          "text": [
            "0\n",
            "1\n",
            "2\n",
            "6\n",
            "15\n",
            "40\n",
            "104\n",
            "273\n",
            "714\n",
            "1870\n"
          ]
        }
      ]
    },
    {
      "cell_type": "markdown",
      "metadata": {
        "id": "pud7T5ILVxNX"
      },
      "source": [
        "This pipelining is efficient and easy to read (and yes, a lot cooler!)."
      ]
    },
    {
      "cell_type": "code",
      "metadata": {
        "id": "awBZ85CgVbAG",
        "colab": {
          "base_uri": "https://localhost:8080/"
        },
        "outputId": "21c40f90-fed6-4ab8-d2e2-080a2763eb8f"
      },
      "source": [
        "# prompt: generator pipelining\n",
        "\n",
        "def fibonacci_numbers(nums):\n",
        "    x, y = 0, 1\n",
        "    for _ in range(nums):\n",
        "        x, y = y, x+y\n",
        "        yield x\n",
        "\n",
        "def square(nums):\n",
        "    for num in nums:\n",
        "        yield num**2\n",
        "\n",
        "def double(nums):\n",
        "    for num in nums:\n",
        "        yield 2*num\n",
        "\n",
        "for num in range(10):\n",
        "    print(sum(double(square(fibonacci_numbers(num)))))\n"
      ],
      "execution_count": null,
      "outputs": [
        {
          "output_type": "stream",
          "name": "stdout",
          "text": [
            "0\n",
            "2\n",
            "4\n",
            "12\n",
            "30\n",
            "80\n",
            "208\n",
            "546\n",
            "1428\n",
            "3740\n"
          ]
        }
      ]
    },
    {
      "cell_type": "markdown",
      "source": [
        "### Exercise: Using Generator to implement a pipeline to compute the average of squared root of sum of squares of diffences of two lists of numbers of size n."
      ],
      "metadata": {
        "id": "Z74vlbY_KSO9"
      }
    },
    {
      "cell_type": "markdown",
      "source": [],
      "metadata": {
        "id": "HHgH8pT1Kd-J"
      }
    },
    {
      "cell_type": "code",
      "source": [
        "import math\n",
        "\n",
        "def diff(l1, l2):\n",
        "    for a, b in zip(l1, l2):\n",
        "        yield a - b\n",
        "\n",
        "def square(numbers):\n",
        "    for x in numbers:\n",
        "        yield x ** 2\n",
        "\n",
        "def sqrt(numbers):\n",
        "    for x in numbers:\n",
        "        yield math.sqrt(x)\n",
        "\n",
        "def average(numbers, n):\n",
        "    yield sum(numbers) / n\n",
        "\n",
        "def average_of_sqrt_of_sum_of_squares_of_diff(l1, l2):\n",
        "    # Create the pipeline\n",
        "    diffs = diff(l1, l2)\n",
        "    squares = square(diffs)\n",
        "    roots = sqrt(squares)\n",
        "    n = len(l1)\n",
        "    return next(average(roots, n))"
      ],
      "metadata": {
        "id": "ifZkjHsaf2wd"
      },
      "execution_count": 9,
      "outputs": []
    }
  ]
}