{
  "nbformat": 4,
  "nbformat_minor": 0,
  "metadata": {
    "colab": {
      "provenance": [],
      "include_colab_link": true
    },
    "kernelspec": {
      "name": "python3",
      "display_name": "Python 3"
    },
    "language_info": {
      "name": "python"
    }
  },
  "cells": [
    {
      "cell_type": "markdown",
      "metadata": {
        "id": "view-in-github",
        "colab_type": "text"
      },
      "source": [
        "<a href=\"https://colab.research.google.com/github/tyri0n11/distributed-system/blob/main/midterm.ipynb\" target=\"_parent\"><img src=\"https://colab.research.google.com/assets/colab-badge.svg\" alt=\"Open In Colab\"/></a>"
      ]
    },
    {
      "cell_type": "markdown",
      "source": [
        "## Question I (20 points)\n",
        "\n",
        "Answer these below questions: </br>\n",
        "1. What is Cloud Computing?\n",
        "2. What are the main types of cloud deployment models?\n",
        "3. What are the main service models in Cloud Computing?\n",
        "4. What is virtualization in the context of cloud computing?\n",
        "5. What is auto-scaling?\n",
        "6. What is containerization and how does it relate to the cloud?"
      ],
      "metadata": {
        "id": "hlQRbk941wH1"
      }
    },
    {
      "cell_type": "markdown",
      "source": [
        "#1. Cloud computing is a model of delivering computing services encompassing servers, storage, databases, networking, software, analytics, and artificial intelligence over the internet.\n",
        "\n",
        "\n",
        "\n"
      ],
      "metadata": {
        "id": "6hy2k10FE2cj"
      }
    },
    {
      "cell_type": "markdown",
      "source": [
        "#2. There are three main types of cloud deployment models: Public, Private, and Hybrid"
      ],
      "metadata": {
        "id": "ZY7LdyD9FUOG"
      }
    },
    {
      "cell_type": "markdown",
      "source": [
        "#3. The primary service models in Cloud Computing are\n",
        "    - IaaS: Infrastructure as service (virtual machines, storage, networks)\n",
        "    - PaaS: Platform as service (platform for app development)\n",
        "    - SaaS: Software as service (Software accessible online)"
      ],
      "metadata": {
        "id": "DdNr4vB-FoDI"
      }
    },
    {
      "cell_type": "markdown",
      "source": [
        "#4. Virtualization is a technology that allows multiple simulated environments or `virtual machines` (VMs) to run on a single physical hardware system\n",
        "\n",
        "- In cloud environments, virtualization serves as the foundation of cloud infrastructure, because it separates physical resources into multiple logical systems. This allows cloud providers (like AWS, Azure, or Google Cloud) to offer scalable and flexible virtualized resources to users on demand"
      ],
      "metadata": {
        "id": "mE-tCWZAGKKh"
      }
    },
    {
      "cell_type": "markdown",
      "source": [
        "#5. Auto-scaling is a cloud feature that automatically modifies computing resources (such as virtual machines, containers, or instances) in response to current workload demand\n",
        "\n",
        "- **How it works**:\n",
        "\t- When workload increases (e.g., high web traffic), new instances are automatically launched.\n",
        "\t- When workload decreases, unnecessary instances are shut down.This elasticity ensures consistent performance while optimizing resource costs.\n",
        "- **Benefits**:\n",
        "\t- Cost efficiency: Pay only for what you use—resources scale down when idle.\n",
        "\t- Performance stability: Prevents under-provisioning during spikes.\n",
        "\t- Fault tolerance: Automatically creates replacement instances if one fails.\n",
        "- **Example**:\n",
        "Amazon EC2 Auto Scaling adds or removes virtual servers based on metrics like CPU utilization or request volume to keep applications responsive\n"
      ],
      "metadata": {
        "id": "RQvDLrQbGz0X"
      }
    },
    {
      "cell_type": "markdown",
      "source": [
        "#6. Containerization packages an application and all its dependencies (libraries, runtime, configuration) into a lightweight, portable container that can run consistently across any environment.\n",
        "\n",
        "- Unlike virtualization—which simulates full operating systems—containers share the host OS kernel, making them faster and more efficient to start, stop, and replicate.\n",
        "\n",
        "- Tools such as `Docker` and orchestration platforms like `Kubernetes` manage containers across cloud servers.\n",
        "\n",
        "- **Relation to Cloud Computing:**\n",
        "\t-   Containers are key components of modern cloud-native architecture, enabling microservices and automated scaling.\n",
        "\t-   They integrate seamlessly with Platform-as-a-Service (PaaS) and Hybrid Cloud environments.\n",
        "\t-   Cloud providers (e.g., AWS Elastic Kubernetes Service, Google Kubernetes Engine, Azure AKS) use containerization to optimize resource use, ensure portability, and support continuous deployment"
      ],
      "metadata": {
        "id": "H0O165cnHtbU"
      }
    },
    {
      "cell_type": "markdown",
      "source": [
        "## Question II (20 points)\n",
        "Describe about SIMD and MIMD, then provide a clear comparison of them"
      ],
      "metadata": {
        "id": "FmUIjIVX2U-f"
      }
    },
    {
      "cell_type": "markdown",
      "source": [
        "SIMD (Single Instruction, Multiple Data)\n",
        "- Definition:\n",
        "    > In SIMD systems, a single instruction is executed simultaneously across multiple processing elements, each working on a different data value at the same time .\n",
        "- How it works:\n",
        "\t- A central control unit broadcasts one instruction to many processing units.\n",
        "\t- Each processor performs that instruction on its own piece of data.\n",
        "\t- Ideal for operations where the same computation is repeated many times on large data sets.\n",
        "- Applications:\n",
        "\t- Image processing (pixel operations).\n",
        "\t- Video encoding/decoding.\n",
        "\t- Scientific computing and numerical simulations.\n",
        "\t- Multimedia operations in CPU and GPU pipelines .\n",
        "- Advantages:\n",
        "\t- Highly efficient for data-parallel tasks.\n",
        "\t- Lower control overhead (only one instruction stream).\n",
        "\t- Better throughput for uniform operations.\n",
        "- Disadvantages:\n",
        "\t- Not suitable for tasks requiring different operations on different data.\n",
        "\t- Limited flexibility when handling irregular data or branching tasks"
      ],
      "metadata": {
        "id": "LvaAb7efISLO"
      }
    },
    {
      "cell_type": "markdown",
      "source": [
        "#MIMD (Multiple Instruction, Multiple Data)\n",
        "- Definition:\n",
        "    > MIMD systems have multiple processors that operate independently. Each processor executes its own instruction stream on its own data .\n",
        "- How it works:\n",
        "\t- Each processing unit is autonomous, running separately and asynchronously.\n",
        "\t- Each processor can execute different programs or instructions on different datasets.\n",
        "\t- Communication is often achieved through shared memory or message passing.\n",
        "- Applications:\n",
        "\t- Multithreaded applications or multitasking operating systems.\n",
        "\t- Distributed systems (clusters, supercomputers).\n",
        "\t- Scientific simulations, AI, and parallel databases.\n",
        "- Advantages:\n",
        "\t- Very flexible — supports task-level parallelism.\n",
        "\t- Highly scalable with more processors and tasks.\n",
        "\t- Suitable for complex applications handling heterogeneous tasks.\n",
        "- Disadvantages:\n",
        "\t- More complex synchronization and communication management.\n",
        "\t- Higher hardware and software cost.\n",
        "\t- More difficult to program and debug"
      ],
      "metadata": {
        "id": "vGMATR_xI4lN"
      }
    },
    {
      "cell_type": "code",
      "source": [
        "import pandas as pd\n",
        "\n",
        "# Define the data\n",
        "data = {\n",
        "    \"Feature\": [\n",
        "        \"Basic Principle\", \"Parallelism Type\", \"Control Unit\",\n",
        "        \"Synchronization\", \"Flexibility\", \"Memory Requirement\",\n",
        "        \"Complexity\", \"Use Cases\", \"Example Systems\"\n",
        "    ],\n",
        "    \"SIMD (Single Instruction, Multiple Data)\": [\n",
        "        \"Same instruction on multiple data points simultaneously\",\n",
        "        \"Data parallelism\",\n",
        "        \"Single control unit broadcasts one instruction\",\n",
        "        \"Synchronous (lock-step execution)\",\n",
        "        \"Low — all processes must execute the same operation\",\n",
        "        \"Lower memory use\",\n",
        "        \"Simpler design and lower cost\",\n",
        "        \"Multimedia, image/vector processing, GPU\",\n",
        "        \"GPUs (NVIDIA CUDA), Intel SSE/AVX\"\n",
        "    ],\n",
        "    \"MIMD (Multiple Instruction, Multiple Data)\": [\n",
        "        \"Different instructions on different data simultaneously\",\n",
        "        \"Task parallelism\",\n",
        "        \"Each processor has its own control unit and instruction set\",\n",
        "        \"Asynchronous (independent execution)\",\n",
        "        \"High — each processor can execute different instructions\",\n",
        "        \"Higher memory requirement\",\n",
        "        \"More complex and costly architecture\",\n",
        "        \"Multicore CPUs, distributed clusters, cloud systems\",\n",
        "        \"Multicore processors, supercomputers, Hadoop clusters\"\n",
        "    ]\n",
        "}\n",
        "\n",
        "# Create a DataFrame\n",
        "df = pd.DataFrame(data)\n",
        "\n",
        "# Display the table\n",
        "df.style.set_properties(**{\n",
        "    'background-color': 'transparent',\n",
        "    'color': 'black',\n",
        "    'border-color': '#333',\n",
        "    'text-align': 'center'\n",
        "}).set_table_styles([\n",
        "    {'selector': 'th', 'props': [('background-color', 'white'), ('color', 'black'), ('text-align', 'center')]}\n",
        "])\n"
      ],
      "metadata": {
        "colab": {
          "base_uri": "https://localhost:8080/",
          "height": 331
        },
        "id": "N4sOfkZiJu-t",
        "outputId": "f7d35796-b9dc-4cf0-b42f-67f5d5bd829a"
      },
      "execution_count": 5,
      "outputs": [
        {
          "output_type": "execute_result",
          "data": {
            "text/plain": [
              "<pandas.io.formats.style.Styler at 0x7cc985183f50>"
            ],
            "text/html": [
              "<style type=\"text/css\">\n",
              "#T_5ff46 th {\n",
              "  background-color: white;\n",
              "  color: black;\n",
              "  text-align: center;\n",
              "}\n",
              "#T_5ff46_row0_col0, #T_5ff46_row0_col1, #T_5ff46_row0_col2, #T_5ff46_row1_col0, #T_5ff46_row1_col1, #T_5ff46_row1_col2, #T_5ff46_row2_col0, #T_5ff46_row2_col1, #T_5ff46_row2_col2, #T_5ff46_row3_col0, #T_5ff46_row3_col1, #T_5ff46_row3_col2, #T_5ff46_row4_col0, #T_5ff46_row4_col1, #T_5ff46_row4_col2, #T_5ff46_row5_col0, #T_5ff46_row5_col1, #T_5ff46_row5_col2, #T_5ff46_row6_col0, #T_5ff46_row6_col1, #T_5ff46_row6_col2, #T_5ff46_row7_col0, #T_5ff46_row7_col1, #T_5ff46_row7_col2, #T_5ff46_row8_col0, #T_5ff46_row8_col1, #T_5ff46_row8_col2 {\n",
              "  background-color: transparent;\n",
              "  color: black;\n",
              "  border-color: #333;\n",
              "  text-align: center;\n",
              "}\n",
              "</style>\n",
              "<table id=\"T_5ff46\" class=\"dataframe\">\n",
              "  <thead>\n",
              "    <tr>\n",
              "      <th class=\"blank level0\" >&nbsp;</th>\n",
              "      <th id=\"T_5ff46_level0_col0\" class=\"col_heading level0 col0\" >Feature</th>\n",
              "      <th id=\"T_5ff46_level0_col1\" class=\"col_heading level0 col1\" >SIMD (Single Instruction, Multiple Data)</th>\n",
              "      <th id=\"T_5ff46_level0_col2\" class=\"col_heading level0 col2\" >MIMD (Multiple Instruction, Multiple Data)</th>\n",
              "    </tr>\n",
              "  </thead>\n",
              "  <tbody>\n",
              "    <tr>\n",
              "      <th id=\"T_5ff46_level0_row0\" class=\"row_heading level0 row0\" >0</th>\n",
              "      <td id=\"T_5ff46_row0_col0\" class=\"data row0 col0\" >Basic Principle</td>\n",
              "      <td id=\"T_5ff46_row0_col1\" class=\"data row0 col1\" >Same instruction on multiple data points simultaneously</td>\n",
              "      <td id=\"T_5ff46_row0_col2\" class=\"data row0 col2\" >Different instructions on different data simultaneously</td>\n",
              "    </tr>\n",
              "    <tr>\n",
              "      <th id=\"T_5ff46_level0_row1\" class=\"row_heading level0 row1\" >1</th>\n",
              "      <td id=\"T_5ff46_row1_col0\" class=\"data row1 col0\" >Parallelism Type</td>\n",
              "      <td id=\"T_5ff46_row1_col1\" class=\"data row1 col1\" >Data parallelism</td>\n",
              "      <td id=\"T_5ff46_row1_col2\" class=\"data row1 col2\" >Task parallelism</td>\n",
              "    </tr>\n",
              "    <tr>\n",
              "      <th id=\"T_5ff46_level0_row2\" class=\"row_heading level0 row2\" >2</th>\n",
              "      <td id=\"T_5ff46_row2_col0\" class=\"data row2 col0\" >Control Unit</td>\n",
              "      <td id=\"T_5ff46_row2_col1\" class=\"data row2 col1\" >Single control unit broadcasts one instruction</td>\n",
              "      <td id=\"T_5ff46_row2_col2\" class=\"data row2 col2\" >Each processor has its own control unit and instruction set</td>\n",
              "    </tr>\n",
              "    <tr>\n",
              "      <th id=\"T_5ff46_level0_row3\" class=\"row_heading level0 row3\" >3</th>\n",
              "      <td id=\"T_5ff46_row3_col0\" class=\"data row3 col0\" >Synchronization</td>\n",
              "      <td id=\"T_5ff46_row3_col1\" class=\"data row3 col1\" >Synchronous (lock-step execution)</td>\n",
              "      <td id=\"T_5ff46_row3_col2\" class=\"data row3 col2\" >Asynchronous (independent execution)</td>\n",
              "    </tr>\n",
              "    <tr>\n",
              "      <th id=\"T_5ff46_level0_row4\" class=\"row_heading level0 row4\" >4</th>\n",
              "      <td id=\"T_5ff46_row4_col0\" class=\"data row4 col0\" >Flexibility</td>\n",
              "      <td id=\"T_5ff46_row4_col1\" class=\"data row4 col1\" >Low — all processes must execute the same operation</td>\n",
              "      <td id=\"T_5ff46_row4_col2\" class=\"data row4 col2\" >High — each processor can execute different instructions</td>\n",
              "    </tr>\n",
              "    <tr>\n",
              "      <th id=\"T_5ff46_level0_row5\" class=\"row_heading level0 row5\" >5</th>\n",
              "      <td id=\"T_5ff46_row5_col0\" class=\"data row5 col0\" >Memory Requirement</td>\n",
              "      <td id=\"T_5ff46_row5_col1\" class=\"data row5 col1\" >Lower memory use</td>\n",
              "      <td id=\"T_5ff46_row5_col2\" class=\"data row5 col2\" >Higher memory requirement</td>\n",
              "    </tr>\n",
              "    <tr>\n",
              "      <th id=\"T_5ff46_level0_row6\" class=\"row_heading level0 row6\" >6</th>\n",
              "      <td id=\"T_5ff46_row6_col0\" class=\"data row6 col0\" >Complexity</td>\n",
              "      <td id=\"T_5ff46_row6_col1\" class=\"data row6 col1\" >Simpler design and lower cost</td>\n",
              "      <td id=\"T_5ff46_row6_col2\" class=\"data row6 col2\" >More complex and costly architecture</td>\n",
              "    </tr>\n",
              "    <tr>\n",
              "      <th id=\"T_5ff46_level0_row7\" class=\"row_heading level0 row7\" >7</th>\n",
              "      <td id=\"T_5ff46_row7_col0\" class=\"data row7 col0\" >Use Cases</td>\n",
              "      <td id=\"T_5ff46_row7_col1\" class=\"data row7 col1\" >Multimedia, image/vector processing, GPU</td>\n",
              "      <td id=\"T_5ff46_row7_col2\" class=\"data row7 col2\" >Multicore CPUs, distributed clusters, cloud systems</td>\n",
              "    </tr>\n",
              "    <tr>\n",
              "      <th id=\"T_5ff46_level0_row8\" class=\"row_heading level0 row8\" >8</th>\n",
              "      <td id=\"T_5ff46_row8_col0\" class=\"data row8 col0\" >Example Systems</td>\n",
              "      <td id=\"T_5ff46_row8_col1\" class=\"data row8 col1\" >GPUs (NVIDIA CUDA), Intel SSE/AVX</td>\n",
              "      <td id=\"T_5ff46_row8_col2\" class=\"data row8 col2\" >Multicore processors, supercomputers, Hadoop clusters</td>\n",
              "    </tr>\n",
              "  </tbody>\n",
              "</table>\n"
            ]
          },
          "metadata": {},
          "execution_count": 5
        }
      ]
    },
    {
      "cell_type": "markdown",
      "source": [
        "## Question III (30 points)\n",
        "1. Write a generator function that generates prime numbers infinitely.\n",
        "2. Write a generator function that generates a sequence of powers of a given base up to a given exponent. Then pipelining with generator double function which double the sequence from previous generator."
      ],
      "metadata": {
        "id": "OpSZpGAU3Cpe"
      }
    },
    {
      "cell_type": "code",
      "source": [
        "\n",
        "def gen_primes():\n",
        "    num = 2\n",
        "    while True:\n",
        "        for i in range(2, int(num ** 0.5) + 1):\n",
        "            if num % i == 0:\n",
        "                break\n",
        "        else:\n",
        "            yield num\n",
        "        num += 1"
      ],
      "metadata": {
        "id": "6bKaPDsiK0-Q"
      },
      "execution_count": 6,
      "outputs": []
    },
    {
      "cell_type": "code",
      "source": [
        "def gen_powers(base, max_exp):\n",
        "    for exp in range(max_exp + 1):\n",
        "        yield base ** exp\n",
        "\n",
        "def double(gen):\n",
        "    for val in gen:\n",
        "        yield val * 2\n",
        "\n",
        "pipeline = double(gen_powers(3, 4))\n",
        "\n",
        "for val in pipeline:\n",
        "    print(val)\n"
      ],
      "metadata": {
        "colab": {
          "base_uri": "https://localhost:8080/"
        },
        "id": "D2ph0VDQK3gM",
        "outputId": "4ddc0e47-0383-4fa4-b3ef-f19de22183e0"
      },
      "execution_count": 7,
      "outputs": [
        {
          "output_type": "stream",
          "name": "stdout",
          "text": [
            "2\n",
            "6\n",
            "18\n",
            "54\n",
            "162\n"
          ]
        }
      ]
    },
    {
      "cell_type": "markdown",
      "source": [
        "## Question IV (30 points)\n",
        "Build a small OOP system to manage a list of students and their grades, perform calculations (like average score), and show reports, without using pandas.\n",
        "\n",
        "Step-by-Step Tasks\n",
        "1. Create a `Student` class\n",
        "\n",
        "Attributes:\n",
        "- `name`\n",
        "- `grades` → a list of numbers\n",
        "Methods:\n",
        "\n",
        "- `add_grade(score)` → add a grade\n",
        "\n",
        "- `average()` → return average grade\n",
        "\n",
        "- `__str__()` → return formatted string with name and average\n",
        "\n",
        "2. Create a `Classroom` class\n",
        "\n",
        "Attributes:\n",
        "\n",
        "- `students` → a list of Student objects\n",
        "\n",
        "Methods:\n",
        "\n",
        "- `add_student(student)` → add a student object\n",
        "- `class_average()` → compute average of all students\n",
        "- `top_student()` → return the student with the highest average\n",
        "- `show_report()` → print all students with their averages"
      ],
      "metadata": {
        "id": "Hj2QEJnU3dUg"
      }
    },
    {
      "cell_type": "code",
      "source": [
        "class Student:\n",
        "    def __init__(self, name):\n",
        "        self.name = name\n",
        "        self.grades = []\n",
        "\n",
        "    def add_grade(self, score):\n",
        "        self.grades.append(score)\n",
        "\n",
        "    def average(self):\n",
        "        return sum(self.grades) / len(self.grades)\n",
        "\n",
        "    def __str__(self) -> str:\n",
        "        return f\"{self.name}: {self.average()}\"\n",
        ""
      ],
      "metadata": {
        "id": "ckWCTIkg2UCD"
      },
      "execution_count": 8,
      "outputs": []
    },
    {
      "cell_type": "code",
      "source": [
        "class Classroom:\n",
        "    def __init__(self):\n",
        "        self.students = []\n",
        "\n",
        "    def add_student(self, new_student: \"Student\"):\n",
        "        self.students.append(new_student)\n",
        "\n",
        "    def class_average(self):\n",
        "        return sum(s.average() for s in self.students) / len(self.students)\n",
        "\n",
        "    def top_student(self):\n",
        "        return max(self.students, key=lambda s: s.average())\n",
        "\n",
        "    def top_students(self):\n",
        "        for student in sorted(self.students, key=lambda s: s.average(), reverse=True):\n",
        "            yield student\n",
        "\n",
        "    def show_report(self):\n",
        "        for student in self.students:\n",
        "            print(student)\n"
      ],
      "metadata": {
        "id": "XvYCwAW1MB8x"
      },
      "execution_count": 10,
      "outputs": []
    },
    {
      "cell_type": "code",
      "source": [
        "alice = Student(\"Alice\")\n",
        "alice.add_grade(80)\n",
        "alice.add_grade(90)\n",
        "\n",
        "bob = Student(\"Bob\")\n",
        "bob.add_grade(75)\n",
        "bob.add_grade(85)\n",
        "\n",
        "charlie = Student(\"Charlie\")\n",
        "charlie.add_grade(95)\n",
        "charlie.add_grade(100)\n",
        "\n",
        "cls = Classroom()\n",
        "cls.add_student(alice)\n",
        "cls.add_student(bob)\n",
        "cls.add_student(charlie)\n",
        "\n",
        "cls.show_report()\n",
        "print(\"\\nClass average:\", cls.class_average())\n",
        "\n",
        "print(\"\\nTop student:\", cls.top_student())\n",
        "\n",
        "print(\"\\nAll students ranked:\")\n",
        "for s in cls.top_students():\n",
        "    print(s)\n"
      ],
      "metadata": {
        "colab": {
          "base_uri": "https://localhost:8080/"
        },
        "id": "KClaw7n7Nsct",
        "outputId": "e3b3e861-5f24-4ecc-a817-0bad284ddcc5"
      },
      "execution_count": 11,
      "outputs": [
        {
          "output_type": "stream",
          "name": "stdout",
          "text": [
            "Alice: 85.0\n",
            "Bob: 80.0\n",
            "Charlie: 97.5\n",
            "\n",
            "Class average: 87.5\n",
            "\n",
            "Top student: Charlie: 97.5\n",
            "\n",
            "All students ranked:\n",
            "Charlie: 97.5\n",
            "Alice: 85.0\n",
            "Bob: 80.0\n"
          ]
        }
      ]
    }
  ]
}