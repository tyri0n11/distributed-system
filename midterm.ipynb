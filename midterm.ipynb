{
  "nbformat": 4,
  "nbformat_minor": 0,
  "metadata": {
    "colab": {
      "provenance": [],
      "include_colab_link": true
    },
    "kernelspec": {
      "name": "python3",
      "display_name": "Python 3"
    },
    "language_info": {
      "name": "python"
    }
  },
  "cells": [
    {
      "cell_type": "markdown",
      "metadata": {
        "id": "view-in-github",
        "colab_type": "text"
      },
      "source": [
        "<a href=\"https://colab.research.google.com/github/tyri0n11/distributed-system/blob/main/midterm.ipynb\" target=\"_parent\"><img src=\"https://colab.research.google.com/assets/colab-badge.svg\" alt=\"Open In Colab\"/></a>"
      ]
    },
    {
      "cell_type": "markdown",
      "source": [
        "## Question I (20 points)\n",
        "\n",
        "Answer these below questions: </br>\n",
        "1. What is Cloud Computing?\n",
        "2. What are the main types of cloud deployment models?\n",
        "3. What are the main service models in Cloud Computing?\n",
        "4. What is virtualization in the context of cloud computing?\n",
        "5. What is auto-scaling?\n",
        "6. What is containerization and how does it relate to the cloud?"
      ],
      "metadata": {
        "id": "hlQRbk941wH1"
      }
    },
    {
      "cell_type": "markdown",
      "source": [
        "## Question II (20 points)\n",
        "Describe about SIMD and MIMD, then provide a clear comparison of them"
      ],
      "metadata": {
        "id": "FmUIjIVX2U-f"
      }
    },
    {
      "cell_type": "markdown",
      "source": [
        "## Question III (30 points)\n",
        "1. Write a generator function that generates prime numbers infinitely.\n",
        "2. Write a generator function that generates a sequence of powers of a given base up to a given exponent. Then pipelining with generator double function which double the sequence from previous generator."
      ],
      "metadata": {
        "id": "OpSZpGAU3Cpe"
      }
    },
    {
      "cell_type": "markdown",
      "source": [
        "## Question IV (30 points)\n",
        "Build a small OOP system to manage a list of students and their grades, perform calculations (like average score), and show reports, without using pandas.\n",
        "\n",
        "Step-by-Step Tasks\n",
        "1. Create a `Student` class\n",
        "\n",
        "Attributes:\n",
        "- `name`\n",
        "- `grades` → a list of numbers\n",
        "Methods:\n",
        "\n",
        "- `add_grade(score)` → add a grade\n",
        "\n",
        "- `average()` → return average grade\n",
        "\n",
        "- `__str__()` → return formatted string with name and average\n",
        "\n",
        "2. Create a `Classroom` class\n",
        "\n",
        "Attributes:\n",
        "\n",
        "- `students` → a list of Student objects\n",
        "\n",
        "Methods:\n",
        "\n",
        "- `add_student(student)` → add a student object\n",
        "- `class_average()` → compute average of all students\n",
        "- `top_student()` → return the student with the highest average\n",
        "- `show_report()` → print all students with their averages"
      ],
      "metadata": {
        "id": "Hj2QEJnU3dUg"
      }
    },
    {
      "cell_type": "code",
      "source": [],
      "metadata": {
        "id": "ckWCTIkg2UCD"
      },
      "execution_count": null,
      "outputs": []
    }
  ]
}