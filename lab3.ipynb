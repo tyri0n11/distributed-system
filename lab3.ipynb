{
  "nbformat": 4,
  "nbformat_minor": 0,
  "metadata": {
    "colab": {
      "provenance": [],
      "include_colab_link": true
    },
    "kernelspec": {
      "name": "python3",
      "display_name": "Python 3"
    },
    "language_info": {
      "name": "python"
    }
  },
  "cells": [
    {
      "cell_type": "markdown",
      "metadata": {
        "id": "view-in-github",
        "colab_type": "text"
      },
      "source": [
        "<a href=\"https://colab.research.google.com/github/tyri0n11/distributed-system/blob/main/lab3.ipynb\" target=\"_parent\"><img src=\"https://colab.research.google.com/assets/colab-badge.svg\" alt=\"Open In Colab\"/></a>"
      ]
    },
    {
      "cell_type": "markdown",
      "metadata": {
        "id": "1UGPiKI-Pk-G"
      },
      "source": [
        "## Exercise 1\n",
        "\n",
        "Using regular expressions, extract all names from the dataset `yob2012.txt` (including the number of newborns registered in 2012 with their names and sex), which start with letters A to C. How many names did you find?"
      ]
    },
    {
      "cell_type": "code",
      "source": [],
      "metadata": {
        "id": "mg0JnIzfbRnj"
      },
      "execution_count": null,
      "outputs": []
    },
    {
      "cell_type": "markdown",
      "source": [
        "## Exercise 2\n",
        "\n",
        "1. Write a generator function that generates prime numbers infinitely.\n",
        "2. Write a generator function that generates a sequence of powers of a given base up to a given exponent. Then pipelining with generator double function which double the sequence from previous generator."
      ],
      "metadata": {
        "id": "NAqW9q_Cypqe"
      }
    },
    {
      "cell_type": "markdown",
      "metadata": {
        "id": "tp1Oda6kRboV"
      },
      "source": [
        "## Exercise 3\n",
        "\n",
        "Given a data `uoe_tweets_07022019`, let do the following tasks:\n",
        "1. Remove the `screen_name` and `created_at` columns.\n",
        "2. It would be interesting to see how frequently the university has made posts. Can you group all posts according to their date of publication and then create a plot through time of how many posts have been made each day. </br>\n",
        "You can use the `DataFrame.groupby()` method to find occurrences. Don't forget to label the axis of your plot. </br>\n",
        "You can transfrom a `DataFrame.groupby()` object back into a DataFrame by using its `.count()` method\n",
        "3. We would like to identify the 10 most favourited posts. This can easily be done using the [`nlargest`](https://pandas.pydata.org/pandas-docs/version/0.17.0/generated/pandas.DataFrame.nlargest.html) method and then simply indexing into the original dataframe. </br>\n",
        "Find the 10 most popular posts, print them and see what they are about. </br>\n",
        "You might want to use the `.iloc` method to index into the original data"
      ]
    },
    {
      "cell_type": "code",
      "source": [],
      "metadata": {
        "id": "k7qBBluMtz9g"
      },
      "execution_count": null,
      "outputs": []
    }
  ]
}