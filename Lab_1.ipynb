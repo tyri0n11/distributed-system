{
  "nbformat": 4,
  "nbformat_minor": 0,
  "metadata": {
    "colab": {
      "provenance": [],
      "include_colab_link": true
    },
    "kernelspec": {
      "name": "python3",
      "display_name": "Python 3"
    },
    "language_info": {
      "name": "python"
    }
  },
  "cells": [
    {
      "cell_type": "markdown",
      "metadata": {
        "id": "view-in-github",
        "colab_type": "text"
      },
      "source": [
        "<a href=\"https://colab.research.google.com/github/tyri0n11/distributed-system/blob/main/Lab_1.ipynb\" target=\"_parent\"><img src=\"https://colab.research.google.com/assets/colab-badge.svg\" alt=\"Open In Colab\"/></a>"
      ]
    },
    {
      "cell_type": "markdown",
      "source": [
        "1) Create an iterator that takes in a list and when iterated over, it returns\n",
        "\n",
        "*   List item\n",
        "*   List item\n",
        "\n",
        "the information in a reverse order.\n",
        "\n",
        "Hint: When accepting arguments into an iterator, you need to use the init method, as well as iter and next. The call below should result in `5, 4, 3, 2, 1`."
      ],
      "metadata": {
        "id": "NNiUan1EoX3p"
      }
    },
    {
      "cell_type": "code",
      "execution_count": null,
      "metadata": {
        "id": "-6cp8DwaoXXF",
        "colab": {
          "base_uri": "https://localhost:8080/"
        },
        "outputId": "5456a1fc-39e5-4198-aeab-1a49f1544811"
      },
      "outputs": [
        {
          "output_type": "stream",
          "name": "stdout",
          "text": [
            "1\n",
            "2\n",
            "3\n",
            "4\n",
            "5\n"
          ]
        }
      ],
      "source": [
        "class ReverseOrder:\n",
        "    def __init__(self, digits):\n",
        "        self.digits = digits\n",
        "        self.index = len(digits)\n",
        "\n",
        "    def __iter__(self):\n",
        "        return self\n",
        "\n",
        "    def __next__(self):\n",
        "        if self.index == 0:\n",
        "            raise StopIteration\n",
        "        self.index = self.index - 1\n",
        "        return self.digits[self.index]\n",
        "\n",
        "items = [5, 4, 3, 2, 1]\n",
        "rev = ReverseOrder(items)\n",
        "for item in rev:\n",
        "    print(item)"
      ]
    },
    {
      "cell_type": "markdown",
      "source": [
        "2) Create a generator that acts like the range function, except it yields a squared number every time. The result of the call below should be `0, 1, 4, 16`."
      ],
      "metadata": {
        "id": "BVQ72glfoutf"
      }
    },
    {
      "cell_type": "code",
      "source": [
        "class Fibonaci:\n",
        "    def __init__(self, limit) -> None:\n",
        "        self.a = 0\n",
        "        self.b = 1\n",
        "        self.limit = limit\n",
        "\n",
        "    def __iter__(self):\n",
        "        return self\n",
        "\n",
        "    def __next__(self):\n",
        "        fib = self.a\n",
        "        if fib > self.limit:\n",
        "            raise StopIteration\n",
        "        self.a, self.b = self.b, self.a + self.b\n",
        "        return fib\n",
        "\n",
        "\n",
        "fib = Fibonaci(100)\n",
        "for i in fib:\n",
        "    print(i)\n"
      ],
      "metadata": {
        "id": "owVC8_w3ou6G",
        "colab": {
          "base_uri": "https://localhost:8080/"
        },
        "outputId": "5c94d623-777d-4b8b-d7c3-33fd1be00191"
      },
      "execution_count": 10,
      "outputs": [
        {
          "output_type": "stream",
          "name": "stdout",
          "text": [
            "0\n",
            "1\n",
            "1\n",
            "2\n",
            "3\n",
            "5\n",
            "8\n",
            "13\n",
            "21\n",
            "34\n",
            "55\n",
            "89\n"
          ]
        }
      ]
    },
    {
      "cell_type": "markdown",
      "source": [
        "3) Develop a function to compute the finonacci series based on `generator`."
      ],
      "metadata": {
        "id": "WCEoyR5arJoQ"
      }
    },
    {
      "cell_type": "code",
      "source": [
        "def fibonacci(limit):\n",
        "    a, b = 0, 1\n",
        "    while a <= limit:\n",
        "        yield a\n",
        "        a, b = b, a + b\n",
        "\n",
        "for num in fibonacci(100):\n",
        "    print(num)\n"
      ],
      "metadata": {
        "id": "HmLc2GfnrJ-z",
        "colab": {
          "base_uri": "https://localhost:8080/"
        },
        "outputId": "fef32c20-7b79-438d-83e8-7305f3ff71d9"
      },
      "execution_count": 12,
      "outputs": [
        {
          "output_type": "stream",
          "name": "stdout",
          "text": [
            "0\n",
            "1\n",
            "1\n",
            "2\n",
            "3\n",
            "5\n",
            "8\n",
            "13\n",
            "21\n",
            "34\n",
            "55\n",
            "89\n"
          ]
        }
      ]
    },
    {
      "cell_type": "markdown",
      "source": [
        "4) Define a class with a generator which can iterate the numbers, which are divisible by 7, between a given range 0 and n."
      ],
      "metadata": {
        "id": "xcWeSZiBtLqQ"
      }
    },
    {
      "cell_type": "code",
      "source": [
        "class Generator7:\n",
        "    def __init__(self, limit):\n",
        "        self.limit = limit\n",
        "        self.current = 0\n",
        "\n",
        "    def __iter__(self):\n",
        "        return self   # bản thân class này là iterator\n",
        "\n",
        "    def __next__(self):\n",
        "        while self.current < self.limit:\n",
        "            value = self.current\n",
        "            self.current += 1\n",
        "            if value % 7 == 0:\n",
        "                return value\n",
        "        raise StopIteration\n",
        "\n",
        "gen = Generator7(50)\n",
        "\n",
        "for num in gen:\n",
        "    print(num)"
      ],
      "metadata": {
        "id": "rJ-iwz5JtNbD",
        "colab": {
          "base_uri": "https://localhost:8080/"
        },
        "outputId": "82ff72ea-78a9-4e5a-e893-35e3fee16d00"
      },
      "execution_count": 18,
      "outputs": [
        {
          "output_type": "stream",
          "name": "stdout",
          "text": [
            "0\n",
            "7\n",
            "14\n",
            "21\n",
            "28\n",
            "35\n",
            "42\n",
            "49\n"
          ]
        }
      ]
    },
    {
      "cell_type": "markdown",
      "source": [
        "5) Define a class named `American` and its subclass `NewYorker`.\n",
        "\n",
        "Hints:\n",
        "\n",
        "Use class `Subclass(ParentClass)` to define a subclass.\n"
      ],
      "metadata": {
        "id": "FP-BaKVRth4D"
      }
    },
    {
      "cell_type": "code",
      "source": [
        "class American:\n",
        "    print('American')\n",
        "    pass\n",
        "\n",
        "class NewYorker(American):\n",
        "    print('NewYorker')\n",
        "    pass\n",
        "\n",
        "ame = American()\n",
        "new = NewYorker()"
      ],
      "metadata": {
        "id": "2TJTrB99tiRV",
        "colab": {
          "base_uri": "https://localhost:8080/"
        },
        "outputId": "88240c95-4aa7-4578-9341-30e8a542a1ac"
      },
      "execution_count": 21,
      "outputs": [
        {
          "output_type": "stream",
          "name": "stdout",
          "text": [
            "American\n",
            "NewYorker\n"
          ]
        }
      ]
    },
    {
      "cell_type": "markdown",
      "source": [
        "6) Define a class named `Circle` which can be constructed by a radius. The `Circle` class has a method which can compute the area."
      ],
      "metadata": {
        "id": "Wd7B_CeVt01b"
      }
    },
    {
      "cell_type": "code",
      "source": [
        "class Circle:\n",
        "    def __init__(self, radius):\n",
        "        self.radius = radius\n",
        "\n",
        "    def area(self):\n",
        "        return 3.14 * self.radius * self.radius\n",
        "\n",
        "c = Circle(5)\n",
        "print(c.area())"
      ],
      "metadata": {
        "id": "iQaFglGpt1Au",
        "colab": {
          "base_uri": "https://localhost:8080/"
        },
        "outputId": "d5c6cea4-b167-47c6-a142-1fcaf02f92dc"
      },
      "execution_count": 22,
      "outputs": [
        {
          "output_type": "stream",
          "name": "stdout",
          "text": [
            "78.5\n"
          ]
        }
      ]
    },
    {
      "cell_type": "markdown",
      "source": [
        "7) Define a class named `Rectangle` which can be constructed by a `length` and `width`. The `Rectangle` class has a method which can compute the area."
      ],
      "metadata": {
        "id": "c9MY9pyKuELX"
      }
    },
    {
      "cell_type": "code",
      "source": [
        "class Rectangle:\n",
        "    def __init__(self, length, width):\n",
        "        self.length = length\n",
        "        self.width = width\n",
        "\n",
        "    def area(self):\n",
        "        return self.length * self.width\n",
        "\n",
        "r = Rectangle(5, 10)\n",
        "print(r.area())"
      ],
      "metadata": {
        "id": "36Hyr-tguEba",
        "colab": {
          "base_uri": "https://localhost:8080/"
        },
        "outputId": "1dcf3a09-78fa-466f-a812-26826d412acd"
      },
      "execution_count": 23,
      "outputs": [
        {
          "output_type": "stream",
          "name": "stdout",
          "text": [
            "50\n"
          ]
        }
      ]
    },
    {
      "cell_type": "markdown",
      "source": [
        "8) Define a class Person and its two child classes: `Male` and `Female`. All classes have a method `getGender` which can print `Male` for `Male` class and `Female` for `Female` class."
      ],
      "metadata": {
        "id": "5NAboKzEudPA"
      }
    },
    {
      "cell_type": "code",
      "source": [
        "class Person:\n",
        "    def getGender(self):\n",
        "        print('Person')\n",
        "\n",
        "class Male(Person):\n",
        "    def getGender(self):\n",
        "        print('Male')\n",
        "\n",
        "class Female(Person):\n",
        "    def getGender(self):\n",
        "        print('Female')\n",
        "\n",
        "male = Male()\n",
        "female = Female()\n",
        "\n",
        "male.getGender()\n",
        "female.getGender()\n"
      ],
      "metadata": {
        "id": "nppOgy02udbI",
        "colab": {
          "base_uri": "https://localhost:8080/"
        },
        "outputId": "c3641d00-50cc-494b-a791-3f7e63e61092"
      },
      "execution_count": 24,
      "outputs": [
        {
          "output_type": "stream",
          "name": "stdout",
          "text": [
            "Male\n",
            "Female\n"
          ]
        }
      ]
    }
  ]
}