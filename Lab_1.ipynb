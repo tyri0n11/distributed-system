{
  "nbformat": 4,
  "nbformat_minor": 0,
  "metadata": {
    "colab": {
      "provenance": [],
      "include_colab_link": true
    },
    "kernelspec": {
      "name": "python3",
      "display_name": "Python 3"
    },
    "language_info": {
      "name": "python"
    }
  },
  "cells": [
    {
      "cell_type": "markdown",
      "metadata": {
        "id": "view-in-github",
        "colab_type": "text"
      },
      "source": [
        "<a href=\"https://colab.research.google.com/github/tyri0n11/distributed-system/blob/main/Lab_1.ipynb\" target=\"_parent\"><img src=\"https://colab.research.google.com/assets/colab-badge.svg\" alt=\"Open In Colab\"/></a>"
      ]
    },
    {
      "cell_type": "markdown",
      "source": [
        "1) Create an iterator that takes in a list and when iterated over, it returns\n",
        "\n",
        "*   List item\n",
        "*   List item\n",
        "\n",
        "the information in a reverse order.\n",
        "\n",
        "Hint: When accepting arguments into an iterator, you need to use the init method, as well as iter and next. The call below should result in `5, 4, 3, 2, 1`."
      ],
      "metadata": {
        "id": "NNiUan1EoX3p"
      }
    },
    {
      "cell_type": "code",
      "execution_count": null,
      "metadata": {
        "id": "-6cp8DwaoXXF",
        "colab": {
          "base_uri": "https://localhost:8080/"
        },
        "outputId": "5456a1fc-39e5-4198-aeab-1a49f1544811"
      },
      "outputs": [
        {
          "output_type": "stream",
          "name": "stdout",
          "text": [
            "1\n",
            "2\n",
            "3\n",
            "4\n",
            "5\n"
          ]
        }
      ],
      "source": [
        "class ReverseOrder:\n",
        "    def __init__(self, digits):\n",
        "        self.digits = digits\n",
        "        self.index = len(digits)\n",
        "\n",
        "    def __iter__(self):\n",
        "        return self\n",
        "\n",
        "    def __next__(self):\n",
        "        if self.index == 0:\n",
        "            raise StopIteration\n",
        "        self.index = self.index - 1\n",
        "        return self.digits[self.index]\n",
        "\n",
        "items = [5, 4, 3, 2, 1]\n",
        "rev = ReverseOrder(items)\n",
        "for item in rev:\n",
        "    print(item)"
      ]
    },
    {
      "cell_type": "markdown",
      "source": [
        "2) Create a generator that acts like the range function, except it yields a squared number every time. The result of the call below should be `0, 1, 4, 16`."
      ],
      "metadata": {
        "id": "BVQ72glfoutf"
      }
    },
    {
      "cell_type": "code",
      "source": [],
      "metadata": {
        "id": "owVC8_w3ou6G"
      },
      "execution_count": null,
      "outputs": []
    },
    {
      "cell_type": "markdown",
      "source": [
        "3) Develop a function to compute the finonacci series based on `generator`."
      ],
      "metadata": {
        "id": "WCEoyR5arJoQ"
      }
    },
    {
      "cell_type": "code",
      "source": [],
      "metadata": {
        "id": "HmLc2GfnrJ-z"
      },
      "execution_count": null,
      "outputs": []
    },
    {
      "cell_type": "markdown",
      "source": [
        "4) Define a class with a generator which can iterate the numbers, which are divisible by 7, between a given range 0 and n."
      ],
      "metadata": {
        "id": "xcWeSZiBtLqQ"
      }
    },
    {
      "cell_type": "code",
      "source": [],
      "metadata": {
        "id": "rJ-iwz5JtNbD"
      },
      "execution_count": null,
      "outputs": []
    },
    {
      "cell_type": "markdown",
      "source": [
        "5) Define a class named `American` and its subclass `NewYorker`.\n",
        "\n",
        "Hints:\n",
        "\n",
        "Use class `Subclass(ParentClass)` to define a subclass.\n"
      ],
      "metadata": {
        "id": "FP-BaKVRth4D"
      }
    },
    {
      "cell_type": "code",
      "source": [],
      "metadata": {
        "id": "2TJTrB99tiRV"
      },
      "execution_count": null,
      "outputs": []
    },
    {
      "cell_type": "markdown",
      "source": [
        "6) Define a class named `Circle` which can be constructed by a radius. The `Circle` class has a method which can compute the area."
      ],
      "metadata": {
        "id": "Wd7B_CeVt01b"
      }
    },
    {
      "cell_type": "code",
      "source": [],
      "metadata": {
        "id": "iQaFglGpt1Au"
      },
      "execution_count": null,
      "outputs": []
    },
    {
      "cell_type": "markdown",
      "source": [
        "7) Define a class named `Rectangle` which can be constructed by a `length` and `width`. The `Rectangle` class has a method which can compute the area."
      ],
      "metadata": {
        "id": "c9MY9pyKuELX"
      }
    },
    {
      "cell_type": "code",
      "source": [],
      "metadata": {
        "id": "36Hyr-tguEba"
      },
      "execution_count": null,
      "outputs": []
    },
    {
      "cell_type": "markdown",
      "source": [
        "8) Define a class Person and its two child classes: `Male` and `Female`. All classes have a method `getGender` which can print `Male` for `Male` class and `Female` for `Female` class."
      ],
      "metadata": {
        "id": "5NAboKzEudPA"
      }
    },
    {
      "cell_type": "code",
      "source": [],
      "metadata": {
        "id": "nppOgy02udbI"
      },
      "execution_count": null,
      "outputs": []
    }
  ]
}