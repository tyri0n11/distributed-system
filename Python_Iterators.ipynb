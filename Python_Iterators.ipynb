{
  "nbformat": 4,
  "nbformat_minor": 0,
  "metadata": {
    "colab": {
      "provenance": [],
      "include_colab_link": true
    },
    "kernelspec": {
      "display_name": "Python 3",
      "name": "python3"
    }
  },
  "cells": [
    {
      "cell_type": "markdown",
      "metadata": {
        "id": "view-in-github",
        "colab_type": "text"
      },
      "source": [
        "<a href=\"https://colab.research.google.com/github/tyri0n11/distributed-system/blob/main/Python_Iterators.ipynb\" target=\"_parent\"><img src=\"https://colab.research.google.com/assets/colab-badge.svg\" alt=\"Open In Colab\"/></a>"
      ]
    },
    {
      "cell_type": "markdown",
      "metadata": {
        "id": "_wsUT3L-UQXz"
      },
      "source": [
        "## Python Iterators\n",
        "Iterators are objects that can be iterated upon. Here, we will learn how iterator works and how you can build your own iterator using `__iter__` and `__next__` methods."
      ]
    },
    {
      "cell_type": "markdown",
      "metadata": {
        "id": "KUXrUmW2Uj5N"
      },
      "source": [
        "### What are iterators in Python?\n",
        "Iterators are everywhere in Python. They are elegantly implemented within `for` loops, comprehensions, generators etc. but hidden in plain sight.\n",
        "\n",
        "Iterator in Python is simply an **object** that can be iterated upon. An object which will return data, one element at a time.\n",
        "\n",
        "Technically speaking, Python iterator object must implement two special methods, `__iter__()` and `__next__()`, collectively called the iterator protocol.\n",
        "\n",
        "An object is called iterable if we can get an iterator from it. Most of built-in containers in Python like: **list, tuple, string etc. are iterables**.\n",
        "\n",
        "The `iter()` function (which in turn calls the `__iter__()` method) returns an iterator from them.\n",
        "\n"
      ]
    },
    {
      "cell_type": "markdown",
      "metadata": {
        "id": "0JwWLe2lVEG7"
      },
      "source": [
        "### Iterating Through an Iterator in Python\n",
        "We use the `next()` function to manually iterate through all the items of an iterator. When we reach the end and there is no more data to be returned, it will raise `StopIteration`. Following is an example."
      ]
    },
    {
      "cell_type": "code",
      "metadata": {
        "colab": {
          "base_uri": "https://localhost:8080/",
          "height": 274
        },
        "id": "O38MaDGqANBP",
        "outputId": "a4c3fb34-699e-4784-a6f3-339b84051127"
      },
      "source": [
        "# define a list\n",
        "my_list = [4, 7, 0, 3]\n",
        "\n",
        "# get an iterator using iter()\n",
        "my_iter = iter(my_list)\n",
        "\n",
        "## iterate through it using next()\n",
        "\n",
        "#prints 4\n",
        "print(next(my_iter))\n",
        "\n",
        "#prints 7\n",
        "print(next(my_iter))\n",
        "\n",
        "## next(obj) is same as obj.__next__()\n",
        "\n",
        "#prints 0\n",
        "print(my_iter.__next__())\n",
        "\n",
        "#prints 3\n",
        "print(my_iter.__next__())\n",
        "\n",
        "## This will raise error, no items left\n",
        "next(my_iter)"
      ],
      "execution_count": null,
      "outputs": [
        {
          "output_type": "stream",
          "name": "stdout",
          "text": [
            "4\n",
            "7\n",
            "0\n",
            "3\n"
          ]
        },
        {
          "output_type": "error",
          "ename": "StopIteration",
          "evalue": "ignored",
          "traceback": [
            "\u001b[0;31m---------------------------------------------------------------------------\u001b[0m",
            "\u001b[0;31mStopIteration\u001b[0m                             Traceback (most recent call last)",
            "\u001b[0;32m<ipython-input-1-03ee51577cce>\u001b[0m in \u001b[0;36m<module>\u001b[0;34m\u001b[0m\n\u001b[1;32m     22\u001b[0m \u001b[0;34m\u001b[0m\u001b[0m\n\u001b[1;32m     23\u001b[0m \u001b[0;31m## This will raise error, no items left\u001b[0m\u001b[0;34m\u001b[0m\u001b[0;34m\u001b[0m\u001b[0;34m\u001b[0m\u001b[0m\n\u001b[0;32m---> 24\u001b[0;31m \u001b[0mnext\u001b[0m\u001b[0;34m(\u001b[0m\u001b[0mmy_iter\u001b[0m\u001b[0;34m)\u001b[0m\u001b[0;34m\u001b[0m\u001b[0;34m\u001b[0m\u001b[0m\n\u001b[0m",
            "\u001b[0;31mStopIteration\u001b[0m: "
          ]
        }
      ]
    },
    {
      "cell_type": "markdown",
      "metadata": {
        "id": "jz0bems4VjCP"
      },
      "source": [
        "A more elegant way of automatically iterating is by using the `for` loop. Using this, we can iterate over any object that can return an iterator, for example list, string, file etc."
      ]
    },
    {
      "cell_type": "code",
      "metadata": {
        "colab": {
          "base_uri": "https://localhost:8080/"
        },
        "id": "L6Hny6TKVYZt",
        "outputId": "af974b88-f975-4f0d-fa5b-9f648ff42c67"
      },
      "source": [
        "for element in my_list:\n",
        "    print(element)"
      ],
      "execution_count": null,
      "outputs": [
        {
          "output_type": "stream",
          "name": "stdout",
          "text": [
            "4\n",
            "7\n",
            "0\n",
            "3\n"
          ]
        }
      ]
    },
    {
      "cell_type": "code",
      "source": [
        "# prompt: an example of iterator in python\n",
        "\n",
        "# Define a simple iterator class\n",
        "class MyIterator:\n",
        "    def __init__(self, data):\n",
        "        self.data = data\n",
        "        self.index = 0\n",
        "\n",
        "    def __iter__(self):\n",
        "        return self\n",
        "\n",
        "    def __next__(self):\n",
        "        if self.index >= len(self.data):\n",
        "            raise StopIteration\n",
        "        result = self.data[self.index]\n",
        "        self.index += 1\n",
        "        return result\n",
        "\n",
        "# Create an instance of the iterator class\n",
        "my_iterator = MyIterator([1, 2, 3, 4, 5])\n",
        "\n",
        "# Iterate through the iterator using a for loop\n",
        "for element in my_iterator:\n",
        "    print(element)\n"
      ],
      "metadata": {
        "id": "x9E9N1AyQMAS"
      },
      "execution_count": null,
      "outputs": []
    },
    {
      "cell_type": "markdown",
      "metadata": {
        "id": "P3IN9Ej2Vzeu"
      },
      "source": [
        "### How for loop actually works?\n",
        "As we see in the above example, the `for` loop was able to iterate automatically through the list.\n",
        "\n",
        "In fact the `for` loop can iterate over any iterable. Let's take a closer look at how the `for` loop is actually implemented in Python."
      ]
    },
    {
      "cell_type": "markdown",
      "metadata": {
        "id": "GnnzqM49V5rs"
      },
      "source": [
        "```python\n",
        "for element in iterable:\n",
        "    # do something with element\n",
        "```"
      ]
    },
    {
      "cell_type": "markdown",
      "metadata": {
        "id": "abuSx_C7WHgw"
      },
      "source": [
        "Is actually implemented as.\n",
        "\n",
        "```python\n",
        "# create an iterator object from that iterable\n",
        "iter_obj = iter(iterable)\n",
        "\n",
        "# infinite loop\n",
        "while True:\n",
        "    try:\n",
        "        # get the next item\n",
        "        element = next(iter_obj)\n",
        "        # do something with element\n",
        "    except StopIteration:\n",
        "        # if StopIteration is raised, break from loop\n",
        "        break\n",
        "```"
      ]
    },
    {
      "cell_type": "markdown",
      "metadata": {
        "id": "NpkDuXtuWQFM"
      },
      "source": [
        "So internally, the `for` loop creates an iterator object, `iter_obj` by calling `iter()` on the iterable.\n",
        "\n",
        "Ironically, this `for` loop is actually an infinite `while` loop.\n",
        "\n",
        "Inside the loop, it calls `next()` to get the next element and executes the body of the for loop with this value. After all the items exhaust, `StopIteration` is raised which is internally caught and the loop ends. Note that any other kind of exception will pass through."
      ]
    },
    {
      "cell_type": "markdown",
      "metadata": {
        "id": "rrVt94PXWymn"
      },
      "source": [
        "### Building Your Own Iterator in Python\n",
        "Building an iterator from scratch is easy in Python. We just have to implement the methods `__iter__()` and `__next__()`.\n",
        "\n",
        "The `__iter__()` method returns the iterator object itself. If required, some initialization can be performed.\n",
        "\n",
        "The `__next__()` method must return the next item in the sequence. On reaching the end, and in subsequent calls, it must raise `StopIteration`.\n",
        "\n",
        "Here, we show an example that will give us next power of 2 in each iteration. Power exponent starts from zero up to a user set number."
      ]
    },
    {
      "cell_type": "code",
      "metadata": {
        "id": "6ojmiYCGVphU"
      },
      "source": [
        "class PowTwo:\n",
        "    \"\"\"Class to implement an iterator of powers of two\"\"\"\n",
        "\n",
        "    def __init__(self, max = 0):\n",
        "        self.max = max\n",
        "\n",
        "    def __iter__(self):\n",
        "        self.n = 0\n",
        "        return self\n",
        "\n",
        "    def __next__(self):\n",
        "        if self.n <= self.max:\n",
        "            result = 2 ** self.n\n",
        "            self.n += 1\n",
        "            return result\n",
        "        else:\n",
        "            raise StopIteration"
      ],
      "execution_count": null,
      "outputs": []
    },
    {
      "cell_type": "markdown",
      "metadata": {
        "id": "HDstDNbNXhf-"
      },
      "source": [
        "Now, for example,"
      ]
    },
    {
      "cell_type": "code",
      "metadata": {
        "id": "5etaJVXj5Sfy"
      },
      "source": [
        "a = PowTwo(8)"
      ],
      "execution_count": null,
      "outputs": []
    },
    {
      "cell_type": "code",
      "metadata": {
        "id": "LqMmiMInXduo",
        "colab": {
          "base_uri": "https://localhost:8080/"
        },
        "outputId": "98f2fb6b-54a5-4a37-e30d-8b008d2a3f3e"
      },
      "source": [
        "i = iter(a)\n",
        "print(next(i))\n",
        "print(next(i))\n",
        "next(i)\n",
        "#next(i)\n",
        "#next(i)\n",
        "#next(i)"
      ],
      "execution_count": null,
      "outputs": [
        {
          "output_type": "stream",
          "name": "stdout",
          "text": [
            "1\n",
            "2\n"
          ]
        },
        {
          "output_type": "execute_result",
          "data": {
            "text/plain": [
              "4"
            ]
          },
          "metadata": {},
          "execution_count": 3
        }
      ]
    },
    {
      "cell_type": "code",
      "metadata": {
        "colab": {
          "base_uri": "https://localhost:8080/"
        },
        "id": "GJCdpZbd98HK",
        "outputId": "bd963bba-168a-4c21-ce01-653c39303545"
      },
      "source": [
        "print(next(i))"
      ],
      "execution_count": null,
      "outputs": [
        {
          "output_type": "stream",
          "name": "stdout",
          "text": [
            "8\n"
          ]
        }
      ]
    },
    {
      "cell_type": "code",
      "source": [
        "print(next(i))"
      ],
      "metadata": {
        "colab": {
          "base_uri": "https://localhost:8080/"
        },
        "id": "rjN4Rmrzkpw-",
        "outputId": "8e85aa20-e80c-42e3-8c7a-5185699e91d7"
      },
      "execution_count": null,
      "outputs": [
        {
          "output_type": "stream",
          "name": "stdout",
          "text": [
            "16\n"
          ]
        }
      ]
    },
    {
      "cell_type": "code",
      "source": [
        "print(next(i))"
      ],
      "metadata": {
        "colab": {
          "base_uri": "https://localhost:8080/"
        },
        "id": "q-SEfmmMkssa",
        "outputId": "e933975e-9ee2-49f5-9c2f-290575ce288a"
      },
      "execution_count": null,
      "outputs": [
        {
          "output_type": "stream",
          "name": "stdout",
          "text": [
            "32\n"
          ]
        }
      ]
    },
    {
      "cell_type": "code",
      "source": [
        "print(next(i))"
      ],
      "metadata": {
        "colab": {
          "base_uri": "https://localhost:8080/"
        },
        "id": "Ug0iq9y7kt5O",
        "outputId": "d1118413-8826-4e7d-b075-f11206248e9c"
      },
      "execution_count": null,
      "outputs": [
        {
          "output_type": "stream",
          "name": "stdout",
          "text": [
            "64\n"
          ]
        }
      ]
    },
    {
      "cell_type": "markdown",
      "metadata": {
        "id": "j7vX6BqBX5KP"
      },
      "source": [
        "We can also use a `for` loop to iterate over our iterator class we defined."
      ]
    },
    {
      "cell_type": "code",
      "metadata": {
        "colab": {
          "base_uri": "https://localhost:8080/"
        },
        "id": "ER6TjuMBXvxh",
        "outputId": "8d93f6a5-00aa-4e2f-8d28-ef058aeada98"
      },
      "source": [
        "for i in PowTwo(5):\n",
        "    print(i)"
      ],
      "execution_count": null,
      "outputs": [
        {
          "output_type": "stream",
          "name": "stdout",
          "text": [
            "1\n",
            "2\n",
            "4\n",
            "8\n",
            "16\n",
            "32\n"
          ]
        }
      ]
    },
    {
      "cell_type": "code",
      "source": [
        "# prompt: Class to implement an iterator of powers of three\n",
        "\n",
        "class PowThree:\n",
        "    \"\"\"Class to implement an iterator of powers of three\"\"\"\n",
        "\n",
        "    def __init__(self, max = 0):\n",
        "        self.max = max\n",
        "\n",
        "    def __iter__(self):\n",
        "        self.n = 0\n",
        "        return self\n",
        "\n",
        "    def __next__(self):\n",
        "        if self.n <= self.max:\n",
        "            result = 3 ** self.n\n",
        "            self.n += 1\n",
        "            return result\n",
        "        else:\n",
        "            raise StopIteration\n",
        "\n",
        "# Now, for example,\n",
        "a = PowThree(8)\n",
        "i = iter(a)\n",
        "print(next(i))\n",
        "print(next(i))\n",
        "next(i)\n",
        "#next(i)\n",
        "#next(i)\n",
        "#next(i)\n",
        "print(next(i))\n",
        "print(next(i))\n",
        "print(next(i))\n",
        "print(next(i))\n",
        "# We can also use a `for` loop to iterate over our iterator class we defined.\n",
        "for i in PowThree(5):\n",
        "    print(i)\n"
      ],
      "metadata": {
        "colab": {
          "base_uri": "https://localhost:8080/"
        },
        "id": "JVyjTBHFRqme",
        "outputId": "3d43a899-b959-4998-ff1a-ac9edee82e85"
      },
      "execution_count": null,
      "outputs": [
        {
          "output_type": "stream",
          "name": "stdout",
          "text": [
            "1\n",
            "3\n",
            "27\n",
            "81\n",
            "243\n",
            "729\n",
            "1\n",
            "3\n",
            "9\n",
            "27\n",
            "81\n",
            "243\n"
          ]
        }
      ]
    },
    {
      "cell_type": "markdown",
      "source": [
        "## Exercise: IMPLEMENT an interator in case of Fibonacci sequence."
      ],
      "metadata": {
        "id": "W3u9Mdei9haW"
      }
    },
    {
      "cell_type": "markdown",
      "metadata": {
        "id": "qSRrQLnBYIrP"
      },
      "source": [
        "### Python Infinite Iterators\n",
        "It is not necessary that the item in an iterator object has to exhaust. **There can be infinite iterators** (which never ends). **We must be careful when handling such iterator**.\n",
        "\n",
        "Here is a simple example to demonstrate infinite iterators.\n",
        "\n",
        "The built-in function `iter()` can be called with two arguments where the first argument must be a callable object (function) and second is the sentinel. The iterator calls this function until the returned value is equal to the sentinel."
      ]
    },
    {
      "cell_type": "code",
      "metadata": {
        "id": "-p5VEaPWYAO0"
      },
      "source": [
        "int()\n",
        "\n",
        "inf = iter(int,1)"
      ],
      "execution_count": null,
      "outputs": []
    },
    {
      "cell_type": "code",
      "metadata": {
        "colab": {
          "base_uri": "https://localhost:8080/"
        },
        "id": "8ZscJlK6Yghf",
        "outputId": "00acea3a-9b8d-4c73-923d-3fd8587deb9b"
      },
      "source": [
        "next(inf)"
      ],
      "execution_count": null,
      "outputs": [
        {
          "output_type": "execute_result",
          "data": {
            "text/plain": [
              "0"
            ]
          },
          "metadata": {},
          "execution_count": 10
        }
      ]
    },
    {
      "cell_type": "code",
      "metadata": {
        "colab": {
          "base_uri": "https://localhost:8080/"
        },
        "id": "Q8z4RIKqYlpG",
        "outputId": "4e2c93ed-deec-4cf0-fd21-720140cada7b"
      },
      "source": [
        "next(inf)"
      ],
      "execution_count": null,
      "outputs": [
        {
          "output_type": "execute_result",
          "data": {
            "text/plain": [
              "0"
            ]
          },
          "metadata": {},
          "execution_count": 11
        }
      ]
    },
    {
      "cell_type": "code",
      "metadata": {
        "colab": {
          "base_uri": "https://localhost:8080/"
        },
        "id": "M0oAyeIvYmNv",
        "outputId": "1309b953-df55-41de-da08-a8c72ee72c21"
      },
      "source": [
        "next(inf)"
      ],
      "execution_count": null,
      "outputs": [
        {
          "output_type": "execute_result",
          "data": {
            "text/plain": [
              "0"
            ]
          },
          "metadata": {},
          "execution_count": 12
        }
      ]
    },
    {
      "cell_type": "markdown",
      "metadata": {
        "id": "PjvSAhNqYqpI"
      },
      "source": [
        "We can see that the `int()` function always returns 0. So passing it as `iter(int,1)` will return an iterator that calls `int()` until the returned value equals 1. This never happens and we get an infinite iterator.\n",
        "\n",
        "We can also built our own infinite iterators. The following iterator will, theoretically, return all the odd numbers."
      ]
    },
    {
      "cell_type": "code",
      "metadata": {
        "id": "aOdmRshRYmu_"
      },
      "source": [
        "class InfIter:\n",
        "    \"\"\"Infinite iterator to return all odd numbers\"\"\"\n",
        "\n",
        "    def __iter__(self):\n",
        "        self.num = 1\n",
        "        return self\n",
        "\n",
        "    def __next__(self):\n",
        "        num = self.num\n",
        "        self.num += 2\n",
        "        return num"
      ],
      "execution_count": null,
      "outputs": []
    },
    {
      "cell_type": "code",
      "metadata": {
        "colab": {
          "base_uri": "https://localhost:8080/"
        },
        "id": "EDhTW_VgY7rM",
        "outputId": "2abbb6e7-e5e9-4735-e684-0857f525b750"
      },
      "source": [
        "a = iter(InfIter())\n",
        "\n",
        "next(a)"
      ],
      "execution_count": null,
      "outputs": [
        {
          "output_type": "execute_result",
          "data": {
            "text/plain": [
              "1"
            ]
          },
          "metadata": {},
          "execution_count": 14
        }
      ]
    },
    {
      "cell_type": "code",
      "metadata": {
        "colab": {
          "base_uri": "https://localhost:8080/"
        },
        "id": "H1enf-A9ZChq",
        "outputId": "1c60595e-db30-4c7f-eb1f-82eb90c06ab3"
      },
      "source": [
        "next(a)"
      ],
      "execution_count": null,
      "outputs": [
        {
          "output_type": "execute_result",
          "data": {
            "text/plain": [
              "3"
            ]
          },
          "metadata": {},
          "execution_count": 15
        }
      ]
    },
    {
      "cell_type": "code",
      "metadata": {
        "colab": {
          "base_uri": "https://localhost:8080/"
        },
        "id": "abqg3_UzZDtZ",
        "outputId": "62029e8f-e69c-4cd1-e0c7-b5446c422247"
      },
      "source": [
        "next(a)"
      ],
      "execution_count": null,
      "outputs": [
        {
          "output_type": "execute_result",
          "data": {
            "text/plain": [
              "5"
            ]
          },
          "metadata": {},
          "execution_count": 16
        }
      ]
    },
    {
      "cell_type": "code",
      "source": [
        "# prompt: Infinite iterator to return all even numbers\n",
        "\n",
        "class InfIterEven:\n",
        "    \"\"\"Infinite iterator to return all even numbers\"\"\"\n",
        "\n",
        "    def __iter__(self):\n",
        "        self.num = 0\n",
        "        return self\n",
        "\n",
        "    def __next__(self):\n",
        "        num = self.num\n",
        "        self.num += 2\n",
        "        return num\n",
        "a = iter(InfIterEven())\n",
        "\n",
        "print(next(a))\n",
        "print(next(a))\n",
        "print(next(a))\n"
      ],
      "metadata": {
        "colab": {
          "base_uri": "https://localhost:8080/"
        },
        "id": "Bnh0qBHFSVNC",
        "outputId": "2d61f588-26a4-438a-ec2f-1433686340b7"
      },
      "execution_count": null,
      "outputs": [
        {
          "output_type": "stream",
          "name": "stdout",
          "text": [
            "0\n",
            "2\n",
            "4\n"
          ]
        }
      ]
    },
    {
      "cell_type": "markdown",
      "source": [
        "## Exercise: Infinite iterator to return all numbers which can devide by 3"
      ],
      "metadata": {
        "id": "67h3LudJAb5K"
      }
    },
    {
      "cell_type": "markdown",
      "metadata": {
        "id": "UoJLAbh2ZZEk"
      },
      "source": [
        "And so on...\n",
        "\n",
        "Be careful to include a terminating condition, when iterating over these type of infinite iterators.\n",
        "\n",
        "**The advantage of using iterators is that they save resources**. Like shown above, we could get all the odd numbers without storing the entire number system in memory. We can have infinite items (theoretically) in finite memory.\n",
        "\n",
        "Iterator also makes our code look cool.\n",
        "\n",
        "There's an easier way to create iterators in Python. *To learn more visit: Python generators using yield.*"
      ]
    },
    {
      "cell_type": "code",
      "metadata": {
        "id": "idECKLYUZWI8",
        "outputId": "38fc896d-97ba-4ccb-9059-ac57f5f8ac5f",
        "colab": {
          "base_uri": "https://localhost:8080/"
        }
      },
      "source": [
        "class DivideByThree:\n",
        "    def __init__ (self, limit):\n",
        "        self.num = 0\n",
        "        self.limit = limit\n",
        "\n",
        "    def __iter__(self):\n",
        "        return self\n",
        "\n",
        "    def __next__(self):\n",
        "        self.num += 1\n",
        "        if self.num <= self.limit:\n",
        "            if self.num % 3 == 0:\n",
        "                return self.num\n",
        "        else:\n",
        "            raise StopIteration\n",
        "\n",
        "res = DivideByThree(20)\n",
        "for i in res:\n",
        "    print(i)\n",
        ""
      ],
      "execution_count": 1,
      "outputs": [
        {
          "output_type": "stream",
          "name": "stdout",
          "text": [
            "None\n",
            "None\n",
            "3\n",
            "None\n",
            "None\n",
            "6\n",
            "None\n",
            "None\n",
            "9\n",
            "None\n",
            "None\n",
            "12\n",
            "None\n",
            "None\n",
            "15\n",
            "None\n",
            "None\n",
            "18\n",
            "None\n",
            "None\n"
          ]
        }
      ]
    },
    {
      "cell_type": "code",
      "source": [],
      "metadata": {
        "id": "H1_F4m5f_Rcp"
      },
      "execution_count": null,
      "outputs": []
    }
  ]
}