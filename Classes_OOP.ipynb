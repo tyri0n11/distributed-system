{
  "nbformat": 4,
  "nbformat_minor": 0,
  "metadata": {
    "kernelspec": {
      "display_name": "Python 3",
      "language": "python",
      "name": "python3"
    },
    "language_info": {
      "codemirror_mode": {
        "name": "ipython",
        "version": 3
      },
      "file_extension": ".py",
      "mimetype": "text/x-python",
      "name": "python",
      "nbconvert_exporter": "python",
      "pygments_lexer": "ipython3",
      "version": "3.6.10"
    },
    "colab": {
      "provenance": [],
      "include_colab_link": true
    }
  },
  "cells": [
    {
      "cell_type": "markdown",
      "metadata": {
        "id": "view-in-github",
        "colab_type": "text"
      },
      "source": [
        "<a href=\"https://colab.research.google.com/github/tyri0n11/distributed-system/blob/main/Classes_OOP.ipynb\" target=\"_parent\"><img src=\"https://colab.research.google.com/assets/colab-badge.svg\" alt=\"Open In Colab\"/></a>"
      ]
    },
    {
      "cell_type": "markdown",
      "metadata": {
        "id": "LXUwHqnyMcNh"
      },
      "source": [
        "# Classes"
      ]
    },
    {
      "cell_type": "markdown",
      "metadata": {
        "id": "HUt6sNyCMcNi"
      },
      "source": [
        "Variables, Lists, Dictionaries etc in python are objects. Without getting into the theory part of Object Oriented Programming, explanation of the concepts will be done along this tutorial."
      ]
    },
    {
      "cell_type": "markdown",
      "metadata": {
        "id": "V2pHpHwOMcNj"
      },
      "source": [
        "A class is declared as follows"
      ]
    },
    {
      "cell_type": "markdown",
      "metadata": {
        "id": "6ylxBydVMcNk"
      },
      "source": [
        "```python\n",
        "class class_name:\n",
        "    methods (functions)\n"
      ]
    },
    {
      "cell_type": "code",
      "metadata": {
        "id": "pe4kPJABMcNk"
      },
      "source": [
        "class FirstClass:\n",
        "    \"This is an empty class\"\n",
        "    pass"
      ],
      "execution_count": null,
      "outputs": []
    },
    {
      "cell_type": "markdown",
      "metadata": {
        "id": "FrLkVoVbMcNo"
      },
      "source": [
        "**pass** in python means do nothing. The string defines the documentation of the class, accessible via `help(FirstClass)`"
      ]
    },
    {
      "cell_type": "markdown",
      "metadata": {
        "id": "s2qC45vrMcNp"
      },
      "source": [
        "Above, a class object named \"FirstClass\" is declared now consider a \"egclass\" which has all the characteristics of \"FirstClass\". So all you have to do is, equate the \"egclass\" to \"FirstClass\". In python jargon this is called as creating an instance. \"egclass\" is the instance of \"FirstClass\""
      ]
    },
    {
      "cell_type": "code",
      "metadata": {
        "id": "mLPx0BJ0McNq"
      },
      "source": [
        "egclass = FirstClass()"
      ],
      "execution_count": null,
      "outputs": []
    },
    {
      "cell_type": "code",
      "metadata": {
        "id": "vlXOQ-QLMcNt",
        "colab": {
          "base_uri": "https://localhost:8080/"
        },
        "outputId": "04078dd8-ae1d-4912-8868-f037a763f1c0"
      },
      "source": [
        "type(egclass)"
      ],
      "execution_count": null,
      "outputs": [
        {
          "output_type": "execute_result",
          "data": {
            "text/plain": [
              "__main__.FirstClass"
            ]
          },
          "metadata": {},
          "execution_count": 3
        }
      ]
    },
    {
      "cell_type": "code",
      "metadata": {
        "id": "k5RmcqRPMcNw",
        "colab": {
          "base_uri": "https://localhost:8080/"
        },
        "outputId": "0b9d73c9-988f-4920-eb57-e0bbfa527c69"
      },
      "source": [
        "type(FirstClass)"
      ],
      "execution_count": null,
      "outputs": [
        {
          "output_type": "execute_result",
          "data": {
            "text/plain": [
              "type"
            ]
          },
          "metadata": {
            "tags": []
          },
          "execution_count": 4
        }
      ]
    },
    {
      "cell_type": "markdown",
      "metadata": {
        "id": "l9wKZSLuMcNz"
      },
      "source": [
        "Objects (instances of a class) can hold data. A variable in an object is also called a field or an attribute. To access a field use the notation `object.field`. For example"
      ]
    },
    {
      "cell_type": "code",
      "metadata": {
        "id": "m9zNV_KCMcN0",
        "colab": {
          "base_uri": "https://localhost:8080/"
        },
        "outputId": "2504dada-2070-4b7d-a290-684bffc38afb"
      },
      "source": [
        "obj1 = FirstClass()\n",
        "obj2 = FirstClass()\n",
        "obj1.x = 5\n",
        "obj2.x = 6\n",
        "x = 7\n",
        "print(\"x in object 1 =\",obj1.x,\"x in object 2=\",obj2.x,\"global x =\",x)"
      ],
      "execution_count": null,
      "outputs": [
        {
          "output_type": "stream",
          "name": "stdout",
          "text": [
            "x in object 1 = 5 x in object 2= 6 global x = 7\n"
          ]
        }
      ]
    },
    {
      "cell_type": "markdown",
      "metadata": {
        "id": "7rPfDgz4McN3"
      },
      "source": [
        "Now let us add some \"functionality\" to the class.  A function inside a class is called as a \"Method\" of that class"
      ]
    },
    {
      "cell_type": "code",
      "metadata": {
        "id": "rGvqK10eMcN4",
        "colab": {
          "base_uri": "https://localhost:8080/"
        },
        "outputId": "4e980d35-9459-4036-b04e-b15544ea48fd"
      },
      "source": [
        "class Counter:\n",
        "    def reset(self,init=0):\n",
        "        self.count = init\n",
        "    def getCount(self):\n",
        "        self.count += 1\n",
        "        return self.count\n",
        "counter = Counter()\n",
        "counter.reset(0)\n",
        "print(\"one =\",counter.getCount(),\"two =\",counter.getCount(),\"three =\",counter.getCount())"
      ],
      "execution_count": null,
      "outputs": [
        {
          "output_type": "stream",
          "name": "stdout",
          "text": [
            "one = 1 two = 2 three = 3\n"
          ]
        }
      ]
    },
    {
      "cell_type": "markdown",
      "metadata": {
        "id": "FMnYBNHrMcN6"
      },
      "source": [
        "Note that the `reset()` and function and the `getCount()` method **are callled with one less argument than they are declared with**. The `self` argument is set by Python to the calling object. Here `counter.reset(0)` is equivalent to `Counter.reset(counter,0)`.\n",
        "Using **self** as the name of the first argument of a method is simply a common convention. Python allows any name to be used.\n",
        "\n",
        "Note that here it would be better if we could initialise Counter objects immediately with a default value of `count` rather than having to call `reset()`. A constructor method is declared in Python with the special name `__init__`:"
      ]
    },
    {
      "cell_type": "code",
      "metadata": {
        "id": "C7DY6gYaMcN7"
      },
      "source": [
        "class FirstClass:\n",
        "    \"A sample class\"\n",
        "    def __init__(self,name,symbol):\n",
        "        self.name = name\n",
        "        self.symbol = symbol"
      ],
      "execution_count": null,
      "outputs": []
    },
    {
      "cell_type": "markdown",
      "metadata": {
        "id": "zKtireciMcN-"
      },
      "source": [
        "Now that we have defined a function and added the `__init__` method. We can create a instance of `FirstClass` which now accepts two arguments."
      ]
    },
    {
      "cell_type": "code",
      "metadata": {
        "id": "gxi9lK4bMcN-"
      },
      "source": [
        "eg1 = FirstClass('one',1)\n",
        "eg2 = FirstClass('two',2)"
      ],
      "execution_count": null,
      "outputs": []
    },
    {
      "cell_type": "code",
      "metadata": {
        "id": "mcdQJDEJMcOB",
        "colab": {
          "base_uri": "https://localhost:8080/"
        },
        "outputId": "826277d9-e43c-487d-ee3d-33ef0f7661a7"
      },
      "source": [
        "print(eg1.name, eg1.symbol)\n",
        "print(eg2.name, eg2.symbol)"
      ],
      "execution_count": null,
      "outputs": [
        {
          "output_type": "stream",
          "name": "stdout",
          "text": [
            "one 1\n",
            "two 2\n"
          ]
        }
      ]
    },
    {
      "cell_type": "markdown",
      "metadata": {
        "id": "Mv0EYMoSMcOF"
      },
      "source": [
        "**`dir( )`** function comes very handy in looking into what the class contains and what all method it offers"
      ]
    },
    {
      "cell_type": "code",
      "metadata": {
        "id": "Yx3S5-TBMcOG",
        "colab": {
          "base_uri": "https://localhost:8080/"
        },
        "outputId": "46cf9543-81ea-447a-985c-7ee9f3e93903"
      },
      "source": [
        "print(\"Contents of Counter class:\",dir(Counter) )\n",
        "print(\"Contents of counter object:\", dir(counter))"
      ],
      "execution_count": null,
      "outputs": [
        {
          "output_type": "stream",
          "name": "stdout",
          "text": [
            "Contents of Counter class: ['__class__', '__delattr__', '__dict__', '__dir__', '__doc__', '__eq__', '__format__', '__ge__', '__getattribute__', '__gt__', '__hash__', '__init__', '__init_subclass__', '__le__', '__lt__', '__module__', '__ne__', '__new__', '__reduce__', '__reduce_ex__', '__repr__', '__setattr__', '__sizeof__', '__str__', '__subclasshook__', '__weakref__', 'getCount', 'reset']\n",
            "Contents of counter object: ['__class__', '__delattr__', '__dict__', '__dir__', '__doc__', '__eq__', '__format__', '__ge__', '__getattribute__', '__gt__', '__hash__', '__init__', '__init_subclass__', '__le__', '__lt__', '__module__', '__ne__', '__new__', '__reduce__', '__reduce_ex__', '__repr__', '__setattr__', '__sizeof__', '__str__', '__subclasshook__', '__weakref__', 'count', 'getCount', 'reset']\n"
          ]
        }
      ]
    },
    {
      "cell_type": "code",
      "metadata": {
        "colab": {
          "base_uri": "https://localhost:8080/",
          "height": 36
        },
        "id": "XXxk0pWt5i_H",
        "outputId": "2eab39aa-7b2b-481d-e52f-685f71719209"
      },
      "source": [
        "fst = FirstClass('three', 3)\n",
        "fst.__doc__"
      ],
      "execution_count": null,
      "outputs": [
        {
          "output_type": "execute_result",
          "data": {
            "text/plain": [
              "'A sample class'"
            ],
            "application/vnd.google.colaboratory.intrinsic+json": {
              "type": "string"
            }
          },
          "metadata": {},
          "execution_count": 10
        }
      ]
    },
    {
      "cell_type": "markdown",
      "metadata": {
        "id": "ipYmY_FaMcOI"
      },
      "source": [
        "**`dir( )`** of an instance also shows it's defined attributes so the object has the additional 'count' attribute. Note that Python defines several default methods for actions like comparison (`__le__` is $\\le$ operator). These and other special methods can be defined for classes to implement specific meanings for how object of that class should be compared, added, multiplied or the like."
      ]
    },
    {
      "cell_type": "markdown",
      "metadata": {
        "id": "gbrl35F2McOJ"
      },
      "source": [
        "#### Changing the FirstClass function a bit,"
      ]
    },
    {
      "cell_type": "markdown",
      "metadata": {
        "collapsed": true,
        "id": "i_rVL5PdMcOK"
      },
      "source": [
        "Just like global and local variables as we saw earlier, even classes have it's own types of variables.\n",
        "\n",
        "Class Attribute : attributes defined outside the method and is applicable to all the instances.\n",
        "\n",
        "Instance Attribute : attributes defined inside a method and is applicable to only that method and is unique to each instance."
      ]
    },
    {
      "cell_type": "code",
      "metadata": {
        "id": "0eUez7iAMcOK"
      },
      "source": [
        "class FirstClass:\n",
        "    test = 'TEST'\n",
        "    def __init__(self,n,s):\n",
        "        self.name = n\n",
        "        self.symbol = s"
      ],
      "execution_count": null,
      "outputs": []
    },
    {
      "cell_type": "markdown",
      "metadata": {
        "id": "shIumSqJMcON"
      },
      "source": [
        "Here test is a class attribute and name is a instance attribute."
      ]
    },
    {
      "cell_type": "code",
      "metadata": {
        "id": "_So4Mv3aMcOO"
      },
      "source": [
        "eg3 = FirstClass('Three',3)"
      ],
      "execution_count": null,
      "outputs": []
    },
    {
      "cell_type": "code",
      "metadata": {
        "id": "QvGIprD8McOR",
        "colab": {
          "base_uri": "https://localhost:8080/"
        },
        "outputId": "7d19c24b-1fe3-4f0f-9da3-41ebafdd34ea"
      },
      "source": [
        "print(eg3.test,eg3.name,eg3.symbol)"
      ],
      "execution_count": null,
      "outputs": [
        {
          "output_type": "stream",
          "name": "stdout",
          "text": [
            "TEST Three 3\n"
          ]
        }
      ]
    },
    {
      "cell_type": "code",
      "metadata": {
        "colab": {
          "base_uri": "https://localhost:8080/"
        },
        "id": "6HX_QW2LEq7S",
        "outputId": "237205da-b19a-48db-83f0-8661f0ebba0b"
      },
      "source": [
        "eg4 = FirstClass('Four',4)\n",
        "print(eg4.test,eg4.name,eg4.symbol)"
      ],
      "execution_count": null,
      "outputs": [
        {
          "output_type": "stream",
          "name": "stdout",
          "text": [
            "TEST Four 4\n"
          ]
        }
      ]
    },
    {
      "cell_type": "code",
      "metadata": {
        "id": "1cIHATebbKv1",
        "colab": {
          "base_uri": "https://localhost:8080/"
        },
        "outputId": "4aab4a03-69f6-4fe0-8e06-8a25247f6103"
      },
      "source": [
        "eg4 = FirstClass('Four',4)\n",
        "print(eg3.symbol == eg4.symbol)\n",
        "print(eg3.test == eg4.test)"
      ],
      "execution_count": null,
      "outputs": [
        {
          "output_type": "stream",
          "name": "stdout",
          "text": [
            "False\n",
            "True\n"
          ]
        }
      ]
    },
    {
      "cell_type": "markdown",
      "metadata": {
        "id": "r1VWKfOSMcOT"
      },
      "source": [
        "## Inheritance"
      ]
    },
    {
      "cell_type": "markdown",
      "metadata": {
        "id": "MrGTEibEMcOU"
      },
      "source": [
        "There might be cases where a new class would have all the previous characteristics of an already defined class. So the new class can \"inherit\" the previous class and add it's own methods to it. This is called as inheritance."
      ]
    },
    {
      "cell_type": "markdown",
      "metadata": {
        "id": "90q7IPK3McOV"
      },
      "source": [
        "Consider class SoftwareEngineer which has a method salary."
      ]
    },
    {
      "cell_type": "code",
      "metadata": {
        "id": "_ANUVcMbMcOV"
      },
      "source": [
        "class SoftwareEngineer:\n",
        "    def __init__(self,name,age):\n",
        "        self.name = name\n",
        "        self.age = age\n",
        "    def have_salary(self, value):\n",
        "        self.money = value\n",
        "        print(self.name,\"earns\",self.money)\n",
        "    def code_python(self, py_level):\n",
        "        self.level = py_level\n",
        "        print(self.name, \"have python level\", self.level)"
      ],
      "execution_count": null,
      "outputs": []
    },
    {
      "cell_type": "code",
      "metadata": {
        "id": "h-KJI-YlMcOY"
      },
      "source": [
        "employee = SoftwareEngineer('John', 26)"
      ],
      "execution_count": null,
      "outputs": []
    },
    {
      "cell_type": "code",
      "metadata": {
        "id": "XKDlOtfWMcOa",
        "colab": {
          "base_uri": "https://localhost:8080/"
        },
        "outputId": "dbc70909-5701-4bba-f3bf-2bb40e32afa3"
      },
      "source": [
        "employee.have_salary(40000)"
      ],
      "execution_count": null,
      "outputs": [
        {
          "output_type": "stream",
          "name": "stdout",
          "text": [
            "John earns 40000\n"
          ]
        }
      ]
    },
    {
      "cell_type": "code",
      "metadata": {
        "id": "eDz3mpHyePz5",
        "colab": {
          "base_uri": "https://localhost:8080/"
        },
        "outputId": "4307686c-b8b4-4838-d1b1-b75f060e82a3"
      },
      "source": [
        "employee.code_python(4)"
      ],
      "execution_count": null,
      "outputs": [
        {
          "output_type": "stream",
          "name": "stdout",
          "text": [
            "John have python level 4\n"
          ]
        }
      ]
    },
    {
      "cell_type": "code",
      "metadata": {
        "id": "fZ26yjSOMcOd",
        "colab": {
          "base_uri": "https://localhost:8080/"
        },
        "outputId": "d7dcf6a7-4d98-4c07-cc7e-fdffdfb4abe1"
      },
      "source": [
        "[ name for name in dir(SoftwareEngineer) if not name.startswith(\"_\")]"
      ],
      "execution_count": null,
      "outputs": [
        {
          "output_type": "execute_result",
          "data": {
            "text/plain": [
              "['code_python', 'have_salary']"
            ]
          },
          "metadata": {},
          "execution_count": 20
        }
      ]
    },
    {
      "cell_type": "markdown",
      "metadata": {
        "id": "FZJQ2_HAMcOg"
      },
      "source": [
        "Now consider another class Artist which tells us about the amount of money an artist earns and his artform."
      ]
    },
    {
      "cell_type": "code",
      "metadata": {
        "id": "33YdrAkvMcOh"
      },
      "source": [
        "class Artist:\n",
        "    def __init__(self,name,age):\n",
        "        self.name = name\n",
        "        self.age = age\n",
        "    def money(self,value):\n",
        "        self.money = value\n",
        "        print(self.name,\"earns\",self.money)\n",
        "    def artform(self, job):\n",
        "        self.job = job\n",
        "        print(self.name,\"is a\", self.job)"
      ],
      "execution_count": null,
      "outputs": []
    },
    {
      "cell_type": "code",
      "metadata": {
        "id": "HjLM_vxqMcOj"
      },
      "source": [
        "b = Artist('Nitin',20)"
      ],
      "execution_count": null,
      "outputs": []
    },
    {
      "cell_type": "code",
      "metadata": {
        "id": "mEq12Eq2McOm",
        "colab": {
          "base_uri": "https://localhost:8080/"
        },
        "outputId": "cd5e5643-4a04-476c-8a4b-deff4932947d"
      },
      "source": [
        "b.money(50000)\n",
        "b.artform('Musician')"
      ],
      "execution_count": null,
      "outputs": [
        {
          "output_type": "stream",
          "name": "stdout",
          "text": [
            "Nitin earns 50000\n",
            "Nitin is a Musician\n"
          ]
        }
      ]
    },
    {
      "cell_type": "code",
      "metadata": {
        "id": "xfo-UJOGMcOp",
        "colab": {
          "base_uri": "https://localhost:8080/"
        },
        "outputId": "9df1a855-0e88-4944-a819-82787d293b9b"
      },
      "source": [
        "[ name for name in dir(b) if not name.startswith(\"_\")]"
      ],
      "execution_count": null,
      "outputs": [
        {
          "output_type": "execute_result",
          "data": {
            "text/plain": [
              "['age', 'artform', 'job', 'money', 'name']"
            ]
          },
          "metadata": {},
          "execution_count": 24
        }
      ]
    },
    {
      "cell_type": "markdown",
      "metadata": {
        "id": "vnUCUQa6McOr"
      },
      "source": [
        "money method and salary method are the same. So we can generalize the method to salary and inherit the SoftwareEngineer class to Artist class. Now the artist class becomes,"
      ]
    },
    {
      "cell_type": "code",
      "metadata": {
        "id": "t_Oey7DgMcOs"
      },
      "source": [
        "class Artist(SoftwareEngineer):\n",
        "    def artform(self, job):\n",
        "        self.job = job\n",
        "        print(self.name,\"is a\", self.job)"
      ],
      "execution_count": null,
      "outputs": []
    },
    {
      "cell_type": "code",
      "metadata": {
        "id": "-bwNWPhyMcOu"
      },
      "source": [
        "c = Artist('Nishanth',21)"
      ],
      "execution_count": null,
      "outputs": []
    },
    {
      "cell_type": "code",
      "metadata": {
        "id": "Z-O8Htr3McOw",
        "colab": {
          "base_uri": "https://localhost:8080/"
        },
        "outputId": "3d7c5ea5-dd01-4749-91e1-8dcb261fae67"
      },
      "source": [
        "dir(Artist)"
      ],
      "execution_count": null,
      "outputs": [
        {
          "output_type": "execute_result",
          "data": {
            "text/plain": [
              "['__class__',\n",
              " '__delattr__',\n",
              " '__dict__',\n",
              " '__dir__',\n",
              " '__doc__',\n",
              " '__eq__',\n",
              " '__format__',\n",
              " '__ge__',\n",
              " '__getattribute__',\n",
              " '__gt__',\n",
              " '__hash__',\n",
              " '__init__',\n",
              " '__init_subclass__',\n",
              " '__le__',\n",
              " '__lt__',\n",
              " '__module__',\n",
              " '__ne__',\n",
              " '__new__',\n",
              " '__reduce__',\n",
              " '__reduce_ex__',\n",
              " '__repr__',\n",
              " '__setattr__',\n",
              " '__sizeof__',\n",
              " '__str__',\n",
              " '__subclasshook__',\n",
              " '__weakref__',\n",
              " 'artform',\n",
              " 'code_python',\n",
              " 'have_salary']"
            ]
          },
          "metadata": {},
          "execution_count": 27
        }
      ]
    },
    {
      "cell_type": "code",
      "metadata": {
        "id": "2NN12R91McOy",
        "colab": {
          "base_uri": "https://localhost:8080/"
        },
        "outputId": "4a22bb8a-75c8-404a-cd23-155dc0808445"
      },
      "source": [
        "c.have_salary(60000)\n",
        "c.artform('Dancer')"
      ],
      "execution_count": null,
      "outputs": [
        {
          "output_type": "stream",
          "name": "stdout",
          "text": [
            "Nishanth earns 60000\n",
            "Nishanth is a Dancer\n"
          ]
        }
      ]
    },
    {
      "cell_type": "markdown",
      "metadata": {
        "id": "zg-zNre6McO1"
      },
      "source": [
        "Suppose say while inheriting a particular method is not suitable for the new class. One can override this method by defining again that method with the same name inside the new class."
      ]
    },
    {
      "cell_type": "code",
      "metadata": {
        "id": "bHsrRdXCMcO2"
      },
      "source": [
        "class Artist(SoftwareEngineer):\n",
        "    def artform(self, job):\n",
        "        self.job = job\n",
        "        print(self.name,\"is a\", self.job)\n",
        "    def have_salary(self, value, tip=100):\n",
        "        self.money = value + tip\n",
        "        print(self.name,\"earns\",self.money)\n",
        "        print(\"I am overriding the SoftwareEngineer class's salary method\")"
      ],
      "execution_count": null,
      "outputs": []
    },
    {
      "cell_type": "code",
      "metadata": {
        "id": "oQ6Vm4PBMcO5"
      },
      "source": [
        "c = Artist('Nishanth',21)"
      ],
      "execution_count": null,
      "outputs": []
    },
    {
      "cell_type": "code",
      "metadata": {
        "id": "eGSs2YvAMcO7",
        "colab": {
          "base_uri": "https://localhost:8080/"
        },
        "outputId": "131785c9-fab4-4dc0-8ac7-17dc69d46e50"
      },
      "source": [
        "c.have_salary(60000,1000)\n",
        "c.artform('Dancer')"
      ],
      "execution_count": null,
      "outputs": [
        {
          "output_type": "stream",
          "name": "stdout",
          "text": [
            "Nishanth earns 61000\n",
            "I am overriding the SoftwareEngineer class's salary method\n",
            "Nishanth is a Dancer\n"
          ]
        }
      ]
    },
    {
      "cell_type": "markdown",
      "metadata": {
        "id": "MpQLz6uEMcO9"
      },
      "source": [
        "If the **number of input arguments varies from instance to instance asterisk** can be used as shown."
      ]
    },
    {
      "cell_type": "code",
      "metadata": {
        "id": "rg3PZ2WaMcO9"
      },
      "source": [
        "class NotSure:\n",
        "    def __init__(self, *args):\n",
        "        self.data = ' '.join(list(args))"
      ],
      "execution_count": null,
      "outputs": []
    },
    {
      "cell_type": "code",
      "metadata": {
        "id": "kp8Axm8EMcPA"
      },
      "source": [
        "yz = NotSure('I', 'Do' , 'Not', 'Know', 'What', 'To','Type')"
      ],
      "execution_count": null,
      "outputs": []
    },
    {
      "cell_type": "code",
      "metadata": {
        "id": "LZ8zqcCDMcPE",
        "colab": {
          "base_uri": "https://localhost:8080/",
          "height": 36
        },
        "outputId": "f6f98e55-6b33-4673-9aa2-038b69a074cc"
      },
      "source": [
        "yz.data"
      ],
      "execution_count": null,
      "outputs": [
        {
          "output_type": "execute_result",
          "data": {
            "text/plain": [
              "'I Do Not Know What To Type'"
            ],
            "application/vnd.google.colaboratory.intrinsic+json": {
              "type": "string"
            }
          },
          "metadata": {},
          "execution_count": 34
        }
      ]
    },
    {
      "cell_type": "code",
      "metadata": {
        "colab": {
          "base_uri": "https://localhost:8080/",
          "height": 36
        },
        "id": "xK3LfdMp37cb",
        "outputId": "993648c0-b659-4027-c5fa-d6f865056165"
      },
      "source": [
        "xyz = NotSure('I', 'Do' , 'Not', 'Know', 'What', 'To','Type', 'to', 'understand')\n",
        "xyz.data"
      ],
      "execution_count": null,
      "outputs": [
        {
          "output_type": "execute_result",
          "data": {
            "text/plain": [
              "'I Do Not Know What To Type to understand'"
            ],
            "application/vnd.google.colaboratory.intrinsic+json": {
              "type": "string"
            }
          },
          "metadata": {},
          "execution_count": 35
        }
      ]
    },
    {
      "cell_type": "markdown",
      "metadata": {
        "id": "WIfpVC8wMcPJ"
      },
      "source": [
        "## Introspection\n",
        "We have already seen the **`dir()` function for working out what is in a class**. Python has many facilities to make introspection easy (that is working out what is in a Python object or module). Some useful functions are **hasattr**, **getattr**, and **setattr**:"
      ]
    },
    {
      "cell_type": "code",
      "metadata": {
        "id": "mWiotU_VMcPJ",
        "colab": {
          "base_uri": "https://localhost:8080/"
        },
        "outputId": "1e33b2cc-31e4-46c9-df86-6c69cd802cdc"
      },
      "source": [
        "ns = NotSure('test')\n",
        "if hasattr(ns,'data'): # check if ns.data exists\n",
        "    setattr(ns,'copy', # set ns.copy\n",
        "            getattr(ns,'data')) # get ns.data\n",
        "print('ns.copy =',ns.copy)"
      ],
      "execution_count": null,
      "outputs": [
        {
          "output_type": "stream",
          "name": "stdout",
          "text": [
            "ns.copy = test\n"
          ]
        }
      ]
    },
    {
      "cell_type": "markdown",
      "metadata": {
        "id": "1bcIj-uAv-yt"
      },
      "source": [
        "`hasattr` helps us to check whether an attribute is present in an object. If the object has the given attribute, `hasattr` will return `True`. Otherwise, it will return `False`. Theoretically, this gives a program the ability to examine its own properties"
      ]
    },
    {
      "cell_type": "code",
      "metadata": {
        "id": "mwXct-oAwEfP",
        "colab": {
          "base_uri": "https://localhost:8080/"
        },
        "outputId": "4373e0b2-0864-4abb-91fc-92243d77d202"
      },
      "source": [
        "list_obj = [1, 2, 3]\n",
        "hasattr(list_obj, 'append') # Returns True"
      ],
      "execution_count": null,
      "outputs": [
        {
          "output_type": "execute_result",
          "data": {
            "text/plain": [
              "True"
            ]
          },
          "metadata": {},
          "execution_count": 37
        }
      ]
    },
    {
      "cell_type": "code",
      "metadata": {
        "colab": {
          "base_uri": "https://localhost:8080/"
        },
        "id": "JzfGcFrPJpNy",
        "outputId": "209eb744-18b5-46c8-b3c0-048134e9734c"
      },
      "source": [
        "hasattr(list_obj, 'extend')"
      ],
      "execution_count": null,
      "outputs": [
        {
          "output_type": "execute_result",
          "data": {
            "text/plain": [
              "True"
            ]
          },
          "metadata": {},
          "execution_count": 38
        }
      ]
    },
    {
      "cell_type": "code",
      "metadata": {
        "id": "R6M2E03TwLmo",
        "colab": {
          "base_uri": "https://localhost:8080/"
        },
        "outputId": "3b11c53a-f7b1-4276-fd3c-c0101223e79c"
      },
      "source": [
        "tuple_obj = (1, 2, 3)\n",
        "hasattr(tuple_obj, 'append') # Returns False"
      ],
      "execution_count": null,
      "outputs": [
        {
          "output_type": "execute_result",
          "data": {
            "text/plain": [
              "False"
            ]
          },
          "metadata": {},
          "execution_count": 39
        }
      ]
    },
    {
      "cell_type": "code",
      "metadata": {
        "colab": {
          "base_uri": "https://localhost:8080/"
        },
        "id": "YIHE2zhsJxkp",
        "outputId": "02109a25-e29f-4bbf-d66d-33d56d056748"
      },
      "source": [
        "dict_obj = dict()\n",
        "hasattr(dict_obj, 'update')"
      ],
      "execution_count": null,
      "outputs": [
        {
          "output_type": "execute_result",
          "data": {
            "text/plain": [
              "True"
            ]
          },
          "metadata": {},
          "execution_count": 40
        }
      ]
    },
    {
      "cell_type": "markdown",
      "metadata": {
        "id": "9iFZakt0wQNs"
      },
      "source": [
        "In the above program, we have two objects. The first one is a list and the second one is a tuple. We are trying to check whether the object has an `append` method in it. This is one way of differentiating between a tuple and list"
      ]
    },
    {
      "cell_type": "markdown",
      "metadata": {
        "id": "6hqmZl3YxJDM"
      },
      "source": [
        "The `getattr()` method returns the value of the named attribute of an object. If not found, it returns the default value provided to the function."
      ]
    },
    {
      "cell_type": "code",
      "metadata": {
        "id": "Zyd6x_c8wNS3",
        "colab": {
          "base_uri": "https://localhost:8080/"
        },
        "outputId": "00656897-4595-42b5-fbce-f0a338a5e0d6"
      },
      "source": [
        "class Person:\n",
        "    age = 23\n",
        "    name = \"Adam\"\n",
        "\n",
        "person = Person()\n",
        "print('The age is:', getattr(person, \"age\"))\n",
        "print('The age is:', person.age)"
      ],
      "execution_count": null,
      "outputs": [
        {
          "output_type": "stream",
          "name": "stdout",
          "text": [
            "The age is: 23\n",
            "The age is: 23\n"
          ]
        }
      ]
    },
    {
      "cell_type": "markdown",
      "metadata": {
        "id": "ATO_UwD7xhcW"
      },
      "source": [
        "The `setattr()` function sets the value of the attribute of an object."
      ]
    },
    {
      "cell_type": "code",
      "metadata": {
        "id": "o1izkW86xdYl",
        "colab": {
          "base_uri": "https://localhost:8080/"
        },
        "outputId": "dc14ad1d-5b91-4f8f-c315-3b54d496ae12"
      },
      "source": [
        "class Person:\n",
        "    name = 'Adam'\n",
        "\n",
        "p = Person()\n",
        "print('Before modification:', p.name)\n",
        "\n",
        "# setting name to 'John'\n",
        "setattr(p, 'name', 'John')\n",
        "\n",
        "print('After modification:', p.name)"
      ],
      "execution_count": null,
      "outputs": [
        {
          "output_type": "stream",
          "name": "stdout",
          "text": [
            "Before modification: Adam\n",
            "After modification: John\n"
          ]
        }
      ]
    },
    {
      "cell_type": "code",
      "source": [
        "# prompt: Give more examples of `setattr` in python\n",
        "\n",
        "# Example 1: Setting a new attribute\n",
        "class MyClass:\n",
        "    pass\n",
        "\n",
        "obj = MyClass()\n",
        "setattr(obj, 'new_attribute', 10)\n",
        "print(obj.new_attribute)  # Output: 10\n",
        "\n",
        "\n",
        "# Example 2: Modifying an existing attribute\n",
        "class MyClass:\n",
        "    def __init__(self):\n",
        "        self.value = 5\n",
        "\n",
        "obj = MyClass()\n",
        "print(obj.value)  # Output: 5\n",
        "setattr(obj, 'value', 20)\n",
        "print(obj.value)  # Output: 20\n",
        "\n",
        "\n",
        "# Example 3: Setting an attribute dynamically based on a condition\n",
        "class MyClass:\n",
        "    pass\n",
        "\n",
        "obj = MyClass()\n",
        "condition = True\n",
        "attribute_name = 'dynamic_attribute'\n",
        "attribute_value = 100 if condition else 0\n",
        "\n",
        "setattr(obj, attribute_name, attribute_value)\n",
        "print(obj.dynamic_attribute)  # Output: 100\n",
        "\n",
        "\n",
        "# Example 4: Using setattr with a dictionary\n",
        "class MyClass:\n",
        "    pass\n",
        "\n",
        "obj = MyClass()\n",
        "attributes = {'attr1': 'value1', 'attr2': 2}\n",
        "\n",
        "for key, value in attributes.items():\n",
        "    setattr(obj, key, value)\n",
        "\n",
        "print(obj.attr1)  # Output: value1\n",
        "print(obj.attr2)  # Output: 2\n",
        "\n",
        "\n",
        "# Example 5: Handling cases where the attribute doesn't exist\n",
        "class MyClass:\n",
        "    pass\n",
        "\n",
        "obj = MyClass()\n",
        "\n",
        "try:\n",
        "    value = getattr(obj, 'nonexistent_attribute')\n",
        "except AttributeError:\n",
        "    print(\"Attribute does not exist\") # Output: Attribute does not exist\n",
        "    setattr(obj, 'nonexistent_attribute', 'default_value')\n",
        "    value = getattr(obj, 'nonexistent_attribute')\n",
        "    print(value) # Output: default_value\n"
      ],
      "metadata": {
        "id": "qm-fZT8OH2tr"
      },
      "execution_count": null,
      "outputs": []
    },
    {
      "cell_type": "code",
      "metadata": {
        "colab": {
          "base_uri": "https://localhost:8080/"
        },
        "id": "VQ9BcOlz6Cee",
        "outputId": "aa8c0c5f-7468-40dc-b978-28d4602ca4f0"
      },
      "source": [
        "setattr(p,'name', 'An Mai')\n",
        "print(p.name)"
      ],
      "execution_count": null,
      "outputs": [
        {
          "output_type": "stream",
          "name": "stdout",
          "text": [
            "An Mai\n"
          ]
        }
      ]
    },
    {
      "cell_type": "markdown",
      "metadata": {
        "id": "Y_58SDT5yH0E"
      },
      "source": [
        "The `isinstance()` function checks if the object (first argument) is an instance or subclass of classinfo class (second argument)."
      ]
    },
    {
      "cell_type": "code",
      "metadata": {
        "id": "o_AfmdDlyFz1",
        "colab": {
          "base_uri": "https://localhost:8080/"
        },
        "outputId": "35291f2c-17ef-4155-cc80-f4e4a9e101aa"
      },
      "source": [
        "numbers = [1, 2, 3]\n",
        "\n",
        "result = isinstance(numbers, list)\n",
        "print(numbers,'instance of list?', result)\n",
        "\n",
        "result = isinstance(numbers, dict)\n",
        "print(numbers,'instance of dict?', result)\n",
        "\n",
        "result = isinstance(numbers, (dict, list))\n",
        "print(numbers,'instance of dict or list?', result)\n",
        "\n",
        "number = 5.0\n",
        "\n",
        "result = isinstance(number, list)\n",
        "print(number,'instance of list?', result)\n",
        "\n",
        "result = isinstance(number, int)\n",
        "print(number,'instance of int?', result)\n",
        "\n",
        "result = isinstance(number, float)\n",
        "print(number,'instance of float?', result)"
      ],
      "execution_count": null,
      "outputs": [
        {
          "output_type": "stream",
          "name": "stdout",
          "text": [
            "[1, 2, 3] instance of list? True\n",
            "[1, 2, 3] instance of dict? False\n",
            "[1, 2, 3] instance of dict or list? True\n",
            "5.0 instance of list? False\n",
            "5.0 instance of int? False\n",
            "5.0 instance of float? True\n"
          ]
        }
      ]
    },
    {
      "cell_type": "markdown",
      "metadata": {
        "id": "ZamYn3Uuya9E"
      },
      "source": [
        "The `issubclass()` function checks if the object argument (first argument) is a subclass of classinfo class (second argument).\n"
      ]
    },
    {
      "cell_type": "code",
      "metadata": {
        "id": "TCcmEdpXxeaM",
        "colab": {
          "base_uri": "https://localhost:8080/"
        },
        "outputId": "f4233c01-85d3-42af-c54c-334b26b90c33"
      },
      "source": [
        "class Polygon:\n",
        "  def __init__(polygonType):\n",
        "    print('Polygon is a ', polygonType)\n",
        "\n",
        "class Triangle(Polygon):\n",
        "  def __init__(self):\n",
        "    Polygon.__init__('triangle')\n",
        "\n",
        "print(issubclass(Triangle, Polygon))\n",
        "print(issubclass(Triangle, list))\n",
        "print(issubclass(Triangle, (list, Polygon)))\n",
        "print(issubclass(Polygon, (list, Polygon)))"
      ],
      "execution_count": null,
      "outputs": [
        {
          "output_type": "stream",
          "name": "stdout",
          "text": [
            "True\n",
            "False\n",
            "True\n",
            "True\n"
          ]
        }
      ]
    },
    {
      "cell_type": "code",
      "source": [
        "# prompt: Give more examples of `issubclass` in python\n",
        "\n",
        "class Animal:\n",
        "    pass\n",
        "\n",
        "class Mammal(Animal):\n",
        "    pass\n",
        "\n",
        "class Dog(Mammal):\n",
        "    pass\n",
        "\n",
        "print(issubclass(Dog, Animal))  # True: Dog is a subclass of Animal\n",
        "print(issubclass(Mammal, Dog)) # False: Mammal is not a subclass of Dog\n",
        "print(issubclass(Dog, object)) # True: All classes inherit from object\n",
        "print(issubclass(Animal, Animal)) # True: A class is a subclass of itself\n",
        "print(issubclass(Dog, (list, Animal))) # True: Dog is a subclass of at least one in the tuple\n",
        "print(issubclass(int, int)) # True\n",
        "print(issubclass(int, object)) # True\n",
        "\n",
        "\n",
        "# Example with a more complex inheritance structure\n",
        "class Vehicle:\n",
        "    pass\n",
        "\n",
        "class Car(Vehicle):\n",
        "    pass\n",
        "\n",
        "class ElectricCar(Car):\n",
        "    pass\n",
        "\n",
        "class Bicycle(Vehicle):\n",
        "    pass\n",
        "\n",
        "print(issubclass(ElectricCar, Vehicle))  # True\n",
        "print(issubclass(Bicycle, Car)) # False\n",
        "print(issubclass(Car, (Vehicle, Bicycle)))  # True because Car is a subclass of Vehicle\n",
        "\n",
        "# Example demonstrating the difference between issubclass and isinstance\n",
        "my_car = Car()\n",
        "\n",
        "print(issubclass(Car, Vehicle))  # True\n",
        "print(isinstance(my_car, Vehicle))  # True - my_car is an instance of a subclass of Vehicle\n",
        "\n",
        "print(issubclass(type, object)) # True: type is a subclass of object\n",
        "print(isinstance(type, object)) # True: type is an instance of object\n",
        "\n",
        "# An example of a TypeError, as issubclass takes types as arguments, not instances.\n",
        "# print(issubclass(my_car, Vehicle)) # Correct\n",
        "# print(issubclass(my_car, Car))  # TypeError: issubclass() arg 1 must be a class\n"
      ],
      "metadata": {
        "id": "zej2BQn2Jz4Z"
      },
      "execution_count": null,
      "outputs": []
    },
    {
      "cell_type": "markdown",
      "metadata": {
        "id": "AjZvGkyUzKU6"
      },
      "source": [
        "### Python Operator Overloading\n",
        "\n",
        "You can change the meaning of an operator in Python depending upon the operands used. This practice is known as operating overloading.\n",
        "\n",
        "Python operators work for built-in classes. But same operator behaves differently with different types. For example, the `+` operator will, perform arithmetic addition on two numbers, merge two lists and concatenate two strings.\n",
        "\n",
        "This feature in Python, that allows same operator to have different meaning according to the context is called operator overloading.\n",
        "\n",
        "So what happens when we use them with objects of a user-defined class?"
      ]
    },
    {
      "cell_type": "code",
      "metadata": {
        "id": "OJdlCPHmyZy8"
      },
      "source": [
        "class Point:\n",
        "    def __init__(self, x = 0, y = 0):\n",
        "        self.x = x\n",
        "        self.y = y"
      ],
      "execution_count": null,
      "outputs": []
    },
    {
      "cell_type": "code",
      "metadata": {
        "id": "qwU2OpuyziIE",
        "colab": {
          "base_uri": "https://localhost:8080/",
          "height": 203
        },
        "outputId": "f0e6783a-81ef-4bb1-e80f-8e7e9ef81e70"
      },
      "source": [
        "p1 = Point(2,3)\n",
        "p2 = Point(-1,2)\n",
        "p1 + p2"
      ],
      "execution_count": null,
      "outputs": [
        {
          "output_type": "error",
          "ename": "TypeError",
          "evalue": "ignored",
          "traceback": [
            "\u001b[0;31m---------------------------------------------------------------------------\u001b[0m",
            "\u001b[0;31mTypeError\u001b[0m                                 Traceback (most recent call last)",
            "\u001b[0;32m<ipython-input-47-382eb40812ed>\u001b[0m in \u001b[0;36m<module>\u001b[0;34m\u001b[0m\n\u001b[1;32m      1\u001b[0m \u001b[0mp1\u001b[0m \u001b[0;34m=\u001b[0m \u001b[0mPoint\u001b[0m\u001b[0;34m(\u001b[0m\u001b[0;36m2\u001b[0m\u001b[0;34m,\u001b[0m\u001b[0;36m3\u001b[0m\u001b[0;34m)\u001b[0m\u001b[0;34m\u001b[0m\u001b[0;34m\u001b[0m\u001b[0m\n\u001b[1;32m      2\u001b[0m \u001b[0mp2\u001b[0m \u001b[0;34m=\u001b[0m \u001b[0mPoint\u001b[0m\u001b[0;34m(\u001b[0m\u001b[0;34m-\u001b[0m\u001b[0;36m1\u001b[0m\u001b[0;34m,\u001b[0m\u001b[0;36m2\u001b[0m\u001b[0;34m)\u001b[0m\u001b[0;34m\u001b[0m\u001b[0;34m\u001b[0m\u001b[0m\n\u001b[0;32m----> 3\u001b[0;31m \u001b[0mp1\u001b[0m \u001b[0;34m+\u001b[0m \u001b[0mp2\u001b[0m\u001b[0;34m\u001b[0m\u001b[0;34m\u001b[0m\u001b[0m\n\u001b[0m",
            "\u001b[0;31mTypeError\u001b[0m: unsupported operand type(s) for +: 'Point' and 'Point'"
          ]
        }
      ]
    },
    {
      "cell_type": "markdown",
      "metadata": {
        "id": "at3Znj4vzz74"
      },
      "source": [
        " `TypeError` was raised since Python didn't know how to add two Point objects together."
      ]
    },
    {
      "cell_type": "markdown",
      "metadata": {
        "id": "GDEpXv6Fz2m6"
      },
      "source": [
        "However, the good news is that we can teach this to Python through operator overloading. But first, let's get a notion about special functions."
      ]
    },
    {
      "cell_type": "markdown",
      "metadata": {
        "id": "HON92aYez80o"
      },
      "source": [
        "### Special Functions in Python\n",
        "Class functions that begins with double underscore `__` are called special functions in Python. This is because, well, they are not ordinary. The `__init__()` function we defined above, is one of them. It gets called every time we create a new object of that class. There are a ton of special functions in Python."
      ]
    },
    {
      "cell_type": "code",
      "metadata": {
        "id": "1-OaXH5OzoP4",
        "colab": {
          "base_uri": "https://localhost:8080/"
        },
        "outputId": "c318e9e8-7bba-44d7-c56b-1b4a7b4402b5"
      },
      "source": [
        "p1 = Point(2,3)\n",
        "print(p1)"
      ],
      "execution_count": null,
      "outputs": [
        {
          "output_type": "stream",
          "name": "stdout",
          "text": [
            "<__main__.Point object at 0x7f89a2cc1fd0>\n"
          ]
        }
      ]
    },
    {
      "cell_type": "markdown",
      "metadata": {
        "id": "1Ddmgp-b02cG"
      },
      "source": [
        "That did not print well. But if we define `__str__()` method in our class, we can control how it gets printed. So, let's add this to our class."
      ]
    },
    {
      "cell_type": "code",
      "metadata": {
        "id": "i4llMuyf01Po"
      },
      "source": [
        "class Point:\n",
        "    def __init__(self, x = 0, y = 0):\n",
        "        self.x = x\n",
        "        self.y = y\n",
        "\n",
        "    def __str__(self):\n",
        "        return \"[{0},{1}]\".format(self.x,self.y)"
      ],
      "execution_count": null,
      "outputs": []
    },
    {
      "cell_type": "markdown",
      "metadata": {
        "id": "3ytQ7FbW1B2L"
      },
      "source": [
        "Now let's try the `print()` function again."
      ]
    },
    {
      "cell_type": "code",
      "metadata": {
        "id": "YMImMEaf0-gB",
        "colab": {
          "base_uri": "https://localhost:8080/"
        },
        "outputId": "524ff929-3914-4f90-a064-79aa58b026e7"
      },
      "source": [
        "p1 = Point(2,3)\n",
        "print(p1)"
      ],
      "execution_count": null,
      "outputs": [
        {
          "output_type": "stream",
          "name": "stdout",
          "text": [
            "[2,3]\n"
          ]
        }
      ]
    },
    {
      "cell_type": "markdown",
      "metadata": {
        "id": "qp8bixyS1mMi"
      },
      "source": [
        "### Overloading the `+` Operator in Python\n",
        "To overload the `+` sign, we will need to implement `__add__()` function in the class. With great power comes great responsibility. We can do whatever we like, inside this function. But it is sensible to return a Point object of the coordinate sum."
      ]
    },
    {
      "cell_type": "code",
      "metadata": {
        "id": "iIZNvFOp1Hmi"
      },
      "source": [
        "class Point:\n",
        "    def __init__(self, x = 0, y = 0):\n",
        "        self.x = x\n",
        "        self.y = y\n",
        "\n",
        "    def __str__(self):\n",
        "        return \"({0},{1})\".format(self.x,self.y)\n",
        "\n",
        "    def __add__(self,other):\n",
        "        x = self.x + other.x\n",
        "        y = self.y + other.y\n",
        "        return Point(x,y)"
      ],
      "execution_count": null,
      "outputs": []
    },
    {
      "cell_type": "markdown",
      "metadata": {
        "id": "5UAlgZH019S9"
      },
      "source": [
        "And now, it turns out:"
      ]
    },
    {
      "cell_type": "code",
      "metadata": {
        "id": "MOAbxU4b14SL",
        "colab": {
          "base_uri": "https://localhost:8080/"
        },
        "outputId": "050c761d-63f2-4bbb-80b2-a9deb78ffef8"
      },
      "source": [
        "p1 = Point(2,3)\n",
        "p2 = Point(-1,2)\n",
        "print(p1 + p2)"
      ],
      "execution_count": null,
      "outputs": [
        {
          "output_type": "stream",
          "name": "stdout",
          "text": [
            "(1,5)\n"
          ]
        }
      ]
    },
    {
      "cell_type": "markdown",
      "metadata": {
        "id": "QGlR6koj2Xo1"
      },
      "source": [
        "What actually happens is that, when you do `p1 + p2`, Python will call `p1.__add__(p2)` which in turn is `Point.__add__(p1,p2)`. Similarly, we can overload other operators as well."
      ]
    },
    {
      "cell_type": "markdown",
      "metadata": {
        "id": "O3oyDx8j2cxN"
      },
      "source": [
        "### Overloading Comparison Operators in Python\n",
        "Python does not limit operator overloading to arithmetic operators only. We can overload comparison operators as well.\n",
        "\n",
        "Suppose, we wanted to implement the less than symbol `<` symbol in our `Point` class.\n",
        "\n",
        "Let us compare the magnitude of these points from the origin and return the result for this purpose."
      ]
    },
    {
      "cell_type": "code",
      "metadata": {
        "id": "ALgOAILI2Bkq"
      },
      "source": [
        "class Point:\n",
        "    def __init__(self, x = 0, y = 0):\n",
        "        self.x = x\n",
        "        self.y = y\n",
        "\n",
        "    def __str__(self):\n",
        "        return \"({0},{1})\".format(self.x,self.y)\n",
        "\n",
        "    def __lt__(self,other):\n",
        "        self_mag = (self.x ** 2) + (self.y ** 2)\n",
        "        other_mag = (other.x ** 2) + (other.y ** 2)\n",
        "        return self_mag < other_mag"
      ],
      "execution_count": null,
      "outputs": []
    },
    {
      "cell_type": "code",
      "metadata": {
        "id": "wRkXhDc-2p-n",
        "colab": {
          "base_uri": "https://localhost:8080/"
        },
        "outputId": "4f11411a-4063-4b81-f7f0-ba7544751126"
      },
      "source": [
        "Point(1,1) < Point(-2,-3)"
      ],
      "execution_count": null,
      "outputs": [
        {
          "output_type": "execute_result",
          "data": {
            "text/plain": [
              "True"
            ]
          },
          "metadata": {},
          "execution_count": 54
        }
      ]
    },
    {
      "cell_type": "code",
      "metadata": {
        "id": "VKvU9mjz21eo",
        "colab": {
          "base_uri": "https://localhost:8080/"
        },
        "outputId": "98884995-3dbe-4739-fe29-67489a1212f5"
      },
      "source": [
        "Point(1,1) < Point(0.5,-0.2)"
      ],
      "execution_count": null,
      "outputs": [
        {
          "output_type": "execute_result",
          "data": {
            "text/plain": [
              "False"
            ]
          },
          "metadata": {},
          "execution_count": 55
        }
      ]
    },
    {
      "cell_type": "code",
      "metadata": {
        "id": "7Vo9DK293KMC",
        "colab": {
          "base_uri": "https://localhost:8080/"
        },
        "outputId": "e44dc883-9fe8-40e7-dcaa-00dbbdd59c2f"
      },
      "source": [
        "Point(1,1) < Point(1,1)"
      ],
      "execution_count": null,
      "outputs": [
        {
          "output_type": "execute_result",
          "data": {
            "text/plain": [
              "False"
            ]
          },
          "metadata": {},
          "execution_count": 56
        }
      ]
    },
    {
      "cell_type": "code",
      "metadata": {
        "id": "POq4ufmx3Mmy",
        "colab": {
          "base_uri": "https://localhost:8080/"
        },
        "outputId": "b6e245c5-6220-4c7a-8f2e-a7e3cdbec2ea"
      },
      "source": [
        "Point(2,3) > Point(1,1)"
      ],
      "execution_count": null,
      "outputs": [
        {
          "output_type": "execute_result",
          "data": {
            "text/plain": [
              "True"
            ]
          },
          "metadata": {},
          "execution_count": 57
        }
      ]
    },
    {
      "cell_type": "code",
      "metadata": {
        "id": "Y30un8Ee835I"
      },
      "source": [
        "# prompt: Example of Operator Overloading\n",
        "\n",
        "class Complex:\n",
        "    def __init__(self, real, imag):\n",
        "        self.real = real\n",
        "        self.imag = imag\n",
        "\n",
        "    def __add__(self, other):\n",
        "        if isinstance(other, Complex):\n",
        "            return Complex(self.real + other.real, self.imag + other.imag)\n",
        "        else:\n",
        "            raise TypeError(\"Invalid operand type\")\n",
        "\n",
        "    def __mul__(self, other):\n",
        "        if isinstance(other, Complex):\n",
        "            return Complex(self.real * other.real - self.imag * other.imag,\n",
        "                           self.real * other.imag + self.imag * other.real)\n",
        "        else:\n",
        "            raise TypeError(\"Invalid operand type\")\n",
        "\n",
        "    def __str__(self):\n",
        "        return f\"{self.real} + {self.imag}i\"\n",
        "\n",
        "\n",
        "c1 = Complex(2, 3)\n",
        "c2 = Complex(4, 5)\n",
        "\n",
        "print(c1 + c2)\n",
        "print(c1 * c2)\n"
      ],
      "execution_count": null,
      "outputs": []
    },
    {
      "cell_type": "markdown",
      "source": [
        "### Define overloading for the multiplication of two point as (for example):\n",
        "\n",
        "$P_1 = (2,3)$, $P_2 = (4,-1)$, then $P_1 \\times P_2 = (2\\times 4, 3\\times (-1)) = (8, -3)$"
      ],
      "metadata": {
        "id": "RYxIepJXWxVD"
      }
    },
    {
      "cell_type": "code",
      "source": [],
      "metadata": {
        "id": "Wn9acfMqXZ8f"
      },
      "execution_count": null,
      "outputs": []
    }
  ]
}